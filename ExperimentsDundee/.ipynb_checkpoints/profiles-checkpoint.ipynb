{
 "cells": [
  {
   "cell_type": "code",
   "execution_count": 5,
   "metadata": {},
   "outputs": [
    {
     "data": {
      "text/plain": [
       "u'/Users/vincenzo/CERM/PeaksIdentification/ExperimentsDundee'"
      ]
     },
     "execution_count": 5,
     "metadata": {},
     "output_type": "execute_result"
    }
   ],
   "source": [
    "import pathlib\n"
   ]
  },
  {
   "cell_type": "code",
   "execution_count": 3,
   "metadata": {
    "pycharm": {
     "is_executing": false
    }
   },
   "outputs": [
    {
     "ename": "ImportError",
     "evalue": "No module named ExperimentsDundee.results_in_table",
     "output_type": "error",
     "traceback": [
      "\u001b[0;31m---------------------------------------------------------------------------\u001b[0m",
      "\u001b[0;31mImportError\u001b[0m                               Traceback (most recent call last)",
      "\u001b[0;32m<ipython-input-3-af680dad1c3f>\u001b[0m in \u001b[0;36m<module>\u001b[0;34m()\u001b[0m\n\u001b[1;32m      1\u001b[0m \u001b[0;32mimport\u001b[0m \u001b[0mnumpy\u001b[0m \u001b[0;32mas\u001b[0m \u001b[0mnp\u001b[0m\u001b[0;34m\u001b[0m\u001b[0m\n\u001b[0;32m----> 2\u001b[0;31m \u001b[0;32mfrom\u001b[0m \u001b[0mExperimentsDundee\u001b[0m\u001b[0;34m.\u001b[0m\u001b[0mresults_in_table\u001b[0m \u001b[0;32mimport\u001b[0m \u001b[0mvl_algorithm1\u001b[0m\u001b[0;34m,\u001b[0m \u001b[0mvl_second_algorithm\u001b[0m\u001b[0;34m,\u001b[0m     \u001b[0moptimizer_algorithm\u001b[0m\u001b[0;34m,\u001b[0m \u001b[0moptimizer_with_postprocessing\u001b[0m\u001b[0;34m,\u001b[0m \u001b[0mcsv_to_df\u001b[0m\u001b[0;34m\u001b[0m\u001b[0m\n\u001b[0m\u001b[1;32m      3\u001b[0m \u001b[0;32mfrom\u001b[0m \u001b[0mdata\u001b[0m \u001b[0;32mimport\u001b[0m \u001b[0mdata_info\u001b[0m\u001b[0;34m\u001b[0m\u001b[0m\n\u001b[1;32m      4\u001b[0m \u001b[0;31m#from core.graphics import prova\u001b[0m\u001b[0;34m\u001b[0m\u001b[0;34m\u001b[0m\u001b[0m\n\u001b[1;32m      5\u001b[0m \u001b[0;32mimport\u001b[0m \u001b[0mplotly\u001b[0m\u001b[0;34m.\u001b[0m\u001b[0mgraph_objects\u001b[0m \u001b[0;32mas\u001b[0m \u001b[0mgo\u001b[0m\u001b[0;34m\u001b[0m\u001b[0m\n",
      "\u001b[0;31mImportError\u001b[0m: No module named ExperimentsDundee.results_in_table"
     ]
    }
   ],
   "source": [
    "import numpy as np\n",
    "from ExperimentsDundee.results_in_table import vl_algorithm1, vl_second_algorithm, \\\n",
    "    optimizer_algorithm, optimizer_with_postprocessing, csv_to_df\n",
    "from data import data_info\n",
    "#from core.graphics import prova\n",
    "import plotly.graph_objects as go\n",
    "\n",
    "from core.graphics import  plotHistogram\n",
    "\n",
    "\n",
    "print(\"ciao\")"
   ]
  },
  {
   "cell_type": "code",
   "execution_count": null,
   "metadata": {
    "pycharm": {
     "is_executing": false,
     "name": "#%%\n"
    }
   },
   "outputs": [],
   "source": [
    "experiments_dundee = [\n",
    "    ['Ube2T_ref_final.csv', 'ube2t_em02_5mM_final.csv'],\n",
    "    ['Ube2T_ref_final.csv', 'ube_2t_em11_3mM_final.csv'],\n",
    "    ['Ube2T_ref_final.csv', 'ube2t_em04_3mM_final.csv'],\n",
    "    ['Ube2T_ref_final.csv', 'ube2t_em09_3mM_final.csv'],\n",
    "    ['Ube2T_ref_final.csv', 'ube2t_em17_3mM_final.csv'],\n",
    "    ['Ube2T_ref_final.csv', 'ube2t_em29_3mM_final.csv'],\n",
    "\n",
    "    ['baz2b_phd_ref_renumbered.csv', 'baz2b_vs_5-mer_20_1_renumbered.csv'],\n",
    "    ['baz2a_phd_ref_renumbered.csv', 'baz2a_phd_vs_5mer_64_1_renumbered.csv'],\n",
    "    ['baz2a_phd_ref_renumbered.csv', 'baz2a_phd_vs_10mer_8_1_renumbered.csv'],\n",
    "\n",
    "]\n"
   ]
  },
  {
   "cell_type": "code",
   "execution_count": 2,
   "metadata": {
    "pycharm": {
     "is_executing": false,
     "name": "#%%\n"
    }
   },
   "outputs": [
    {
     "ename": "NameError",
     "evalue": "name 'vl_algorithm1' is not defined",
     "output_type": "error",
     "traceback": [
      "\u001b[0;31m---------------------------------------------------------------------------\u001b[0m",
      "\u001b[0;31mNameError\u001b[0m                                 Traceback (most recent call last)",
      "\u001b[0;32m<ipython-input-2-e64250845bdb>\u001b[0m in \u001b[0;36m<module>\u001b[0;34m()\u001b[0m\n\u001b[1;32m      1\u001b[0m algorithms = [\n\u001b[0;32m----> 2\u001b[0;31m     \u001b[0;34m(\u001b[0m\u001b[0;34m\"vl_first\"\u001b[0m\u001b[0;34m,\u001b[0m \u001b[0mvl_algorithm1\u001b[0m\u001b[0;34m)\u001b[0m\u001b[0;34m,\u001b[0m\u001b[0;34m\u001b[0m\u001b[0m\n\u001b[0m\u001b[1;32m      3\u001b[0m     \u001b[0;34m(\u001b[0m\u001b[0;34m\"vl_second\"\u001b[0m\u001b[0;34m,\u001b[0m \u001b[0mvl_second_algorithm\u001b[0m\u001b[0;34m)\u001b[0m\u001b[0;34m,\u001b[0m\u001b[0;34m\u001b[0m\u001b[0m\n\u001b[1;32m      4\u001b[0m     \u001b[0;34m(\u001b[0m\u001b[0;34m\"optimizer\"\u001b[0m\u001b[0;34m,\u001b[0m \u001b[0moptimizer_algorithm\u001b[0m\u001b[0;34m)\u001b[0m\u001b[0;34m,\u001b[0m\u001b[0;34m\u001b[0m\u001b[0m\n\u001b[1;32m      5\u001b[0m     \u001b[0;34m(\u001b[0m\u001b[0;34m\"optimizer+post_proc\"\u001b[0m\u001b[0;34m,\u001b[0m \u001b[0moptimizer_with_postprocessing\u001b[0m\u001b[0;34m)\u001b[0m\u001b[0;34m\u001b[0m\u001b[0m\n",
      "\u001b[0;31mNameError\u001b[0m: name 'vl_algorithm1' is not defined"
     ]
    }
   ],
   "source": [
    "algorithms = [\n",
    "    (\"vl_first\", vl_algorithm1),\n",
    "    (\"vl_second\", vl_second_algorithm),\n",
    "    (\"optimizer\", optimizer_algorithm),\n",
    "    (\"optimizer+post_proc\", optimizer_with_postprocessing)\n",
    "]\n",
    "\n",
    "data_path = data_info.dundee_data_path\n",
    "\n",
    "for free_prot, prot_with_ligand in experiments_dundee:\n",
    "    print(free_prot, prot_with_ligand)\n",
    "    peaks = csv_to_df(data_path.joinpath(free_prot))\n",
    "    new_peaks = csv_to_df(data_path.joinpath(prot_with_ligand))\n",
    "    ddd = vl_second_algorithm(peaks, new_peaks)\n",
    "    accuracy, p1, p2 = ddd\n",
    "    print(accuracy)\n",
    "    plotHistogram(p1, p2, free_prot, prot_with_ligand, \"vl_second\")\n",
    "    \n",
    "\n",
    "\n"
   ]
  },
  {
   "cell_type": "code",
   "execution_count": 3,
   "metadata": {
    "pycharm": {
     "is_executing": false,
     "name": "#%%\n"
    }
   },
   "outputs": [],
   "source": []
  },
  {
   "cell_type": "code",
   "execution_count": 3,
   "metadata": {
    "pycharm": {
     "is_executing": false,
     "name": "#%%\n"
    }
   },
   "outputs": [],
   "source": [
    "\n"
   ]
  }
 ],
 "metadata": {
  "kernelspec": {
   "display_name": "Python 2",
   "language": "python",
   "name": "python2"
  },
  "language_info": {
   "codemirror_mode": {
    "name": "ipython",
    "version": 2
   },
   "file_extension": ".py",
   "mimetype": "text/x-python",
   "name": "python",
   "nbconvert_exporter": "python",
   "pygments_lexer": "ipython2",
   "version": "2.7.16"
  },
  "pycharm": {
   "stem_cell": {
    "cell_type": "raw",
    "metadata": {
     "collapsed": false
    },
    "source": []
   }
  }
 },
 "nbformat": 4,
 "nbformat_minor": 1
}
