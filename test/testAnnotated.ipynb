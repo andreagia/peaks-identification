{
 "metadata": {
  "language_info": {
   "codemirror_mode": {
    "name": "ipython",
    "version": 3
   },
   "file_extension": ".py",
   "mimetype": "text/x-python",
   "name": "python",
   "nbconvert_exporter": "python",
   "pygments_lexer": "ipython3",
   "version": "3.7.6-final"
  },
  "orig_nbformat": 2,
  "kernelspec": {
   "name": "python37664bitsecstrupytorchconda98aad91e1db64e5d9886db36666d66d0",
   "language": "python",
   "display_name": "Python 3.7.6 64-bit ('SecStruPytorch': conda)"
  }
 },
 "nbformat": 4,
 "nbformat_minor": 2,
 "cells": [
  {
   "cell_type": "code",
   "execution_count": 1,
   "outputs": [],
   "source": [
    "from peaksIdentification.peacks_testannotated import TestAnnotated as ta\n",
    "list_files =[\"MMP12Cat_AHA_T1_ref_270510\",\"MMP12Cat_Dive_T1_ref_peaks\"]\n",
    "ta2 = ta()\n",
    "ass1, ass2 = ta2.getAssignmentData(list_files[0],list_files[1])"
   ],
   "metadata": {
    "collapsed": false,
    "pycharm": {
     "name": "#%%\n"
    }
   }
  },
  {
   "cell_type": "code",
   "execution_count": 1,
   "metadata": {},
   "outputs": [
    {
     "ename": "TypeError",
     "evalue": "can only concatenate str (not \"list\") to str",
     "output_type": "error",
     "traceback": [
      "\u001B[0;31m---------------------------------------------------------------------------\u001B[0m",
      "\u001B[0;31mTypeError\u001B[0m                                 Traceback (most recent call last)",
      "\u001B[0;32m<ipython-input-1-fd23326738d9>\u001B[0m in \u001B[0;36m<module>\u001B[0;34m\u001B[0m\n\u001B[1;32m     18\u001B[0m \u001B[0mlist_files\u001B[0m \u001B[0;34m=\u001B[0m\u001B[0;34m[\u001B[0m\u001B[0;34m[\u001B[0m\u001B[0;34m\"MMP12Cat_AHA_T1_ref_270510\"\u001B[0m\u001B[0;34m,\u001B[0m\u001B[0;34m\"MMP12Cat_Dive_T1_ref_peaks\"\u001B[0m\u001B[0;34m]\u001B[0m\u001B[0;34m]\u001B[0m\u001B[0;34m\u001B[0m\u001B[0;34m\u001B[0m\u001B[0m\n\u001B[1;32m     19\u001B[0m \u001B[0;31m#list_files =[[\"MMP12Cat_AHA_T1_ref_270510\",\"MMP12Cat_NNGH_T1_ref_300707\"]]\u001B[0m\u001B[0;34m\u001B[0m\u001B[0;34m\u001B[0m\u001B[0;34m\u001B[0m\u001B[0m\n\u001B[0;32m---> 20\u001B[0;31m \u001B[0mta1\u001B[0m \u001B[0;34m=\u001B[0m \u001B[0mta\u001B[0m\u001B[0;34m(\u001B[0m\u001B[0mlist_files\u001B[0m\u001B[0;34m)\u001B[0m\u001B[0;34m\u001B[0m\u001B[0;34m\u001B[0m\u001B[0m\n\u001B[0m\u001B[1;32m     21\u001B[0m \u001B[0mta1\u001B[0m\u001B[0;34m.\u001B[0m\u001B[0mreadsimple\u001B[0m\u001B[0;34m(\u001B[0m\u001B[0;34m)\u001B[0m\u001B[0;34m\u001B[0m\u001B[0;34m\u001B[0m\u001B[0m\n\u001B[1;32m     22\u001B[0m \u001B[0mprint\u001B[0m\u001B[0;34m(\u001B[0m\u001B[0;34m\"Fatto\"\u001B[0m\u001B[0;34m)\u001B[0m\u001B[0;34m\u001B[0m\u001B[0;34m\u001B[0m\u001B[0m\n",
      "\u001B[0;32m~/PycharmProjects/peaks-identification/peaksIdentification/peacks_testannotated.py\u001B[0m in \u001B[0;36m__init__\u001B[0;34m(self, files, path)\u001B[0m\n\u001B[1;32m     16\u001B[0m     \u001B[0;32mdef\u001B[0m \u001B[0m__init__\u001B[0m\u001B[0;34m(\u001B[0m\u001B[0mself\u001B[0m\u001B[0;34m,\u001B[0m \u001B[0mfiles\u001B[0m\u001B[0;34m,\u001B[0m \u001B[0mpath\u001B[0m\u001B[0;34m=\u001B[0m\u001B[0;34m\"./data/Annotated_spectra/\"\u001B[0m\u001B[0;34m)\u001B[0m\u001B[0;34m:\u001B[0m\u001B[0;34m\u001B[0m\u001B[0;34m\u001B[0m\u001B[0m\n\u001B[1;32m     17\u001B[0m         \u001B[0mself\u001B[0m\u001B[0;34m.\u001B[0m\u001B[0mpath\u001B[0m \u001B[0;34m=\u001B[0m \u001B[0mpath\u001B[0m\u001B[0;34m\u001B[0m\u001B[0;34m\u001B[0m\u001B[0m\n\u001B[0;32m---> 18\u001B[0;31m         \u001B[0mfin1\u001B[0m \u001B[0;34m=\u001B[0m \u001B[0mself\u001B[0m\u001B[0;34m.\u001B[0m\u001B[0mpath\u001B[0m \u001B[0;34m+\u001B[0m \u001B[0mfiles\u001B[0m\u001B[0;34m[\u001B[0m\u001B[0;36m0\u001B[0m\u001B[0;34m]\u001B[0m \u001B[0;34m+\u001B[0m \u001B[0;34m\".txt\"\u001B[0m\u001B[0;34m\u001B[0m\u001B[0;34m\u001B[0m\u001B[0m\n\u001B[0m\u001B[1;32m     19\u001B[0m         \u001B[0mfin2\u001B[0m \u001B[0;34m=\u001B[0m \u001B[0mself\u001B[0m\u001B[0;34m.\u001B[0m\u001B[0mpath\u001B[0m \u001B[0;34m+\u001B[0m \u001B[0mfiles\u001B[0m\u001B[0;34m[\u001B[0m\u001B[0;36m1\u001B[0m\u001B[0;34m]\u001B[0m \u001B[0;34m+\u001B[0m \u001B[0;34m\".txt\"\u001B[0m\u001B[0;34m\u001B[0m\u001B[0;34m\u001B[0m\u001B[0m\n\u001B[1;32m     20\u001B[0m         \u001B[0mprint\u001B[0m\u001B[0;34m(\u001B[0m\u001B[0;34m\"*****************************+\"\u001B[0m\u001B[0;34m,\u001B[0m \u001B[0mfin1\u001B[0m\u001B[0;34m,\u001B[0m \u001B[0mfin2\u001B[0m\u001B[0;34m,\u001B[0m \u001B[0;34m\"*****************************\"\u001B[0m\u001B[0;34m)\u001B[0m\u001B[0;34m\u001B[0m\u001B[0;34m\u001B[0m\u001B[0m\n",
      "\u001B[0;31mTypeError\u001B[0m: can only concatenate str (not \"list\") to str"
     ]
    }
   ],
   "source": [
    "from peaksIdentification.peacks_testannotated import TestAnnotated as ta\n",
    "from scipy.spatial import distance_matrix\n",
    "import numpy as np\n",
    "'''\n",
    "list_files = [[\"CAIIZn_000_furo_03_170317\",\"CAIIZn_100_furo_11_170317\"],\n",
    "  [\"CAII_Zn_000_oxalate_04_221116\",\"CAII_Zn_15mM_oxalate_31_221116\"],\n",
    "  [\"CAII_Zn_000_pTS_04_291216\",\"CAII_Zn_100_pTS_15_291216\"],\n",
    "  [\"CAII_Zn_000_pTulpho_03_220317\",\"CAII_Zn_100f_pTulpho_18_220317\"],\n",
    "  [\"CAIIZn_0.00_sulpiride_03_040417\",\"CAIIZn_5mM_sulpiride_19_040417\"]]\n",
    "  '''\n",
    "\n",
    "\n",
    "#list_files = [[\"CAII_Zn_000_oxalate_04_221116\",\"CAII_Zn_15mM_oxalate_31_221116\"]] # 89\n",
    "#list_files = [[\"CAIIZn_000_furo_03_170317\",\"CAIIZn_100_furo_11_170317\"]]  # 85\n",
    "#list_files = [[\"CAII_Zn_000_pTS_04_291216\",\"CAII_Zn_100_pTS_15_291216\"]] # 89\n",
    "#list_files = [[\"CAII_Zn_000_pTulpho_03_220317\",\"CAII_Zn_100f_pTulpho_18_220317\"]] # 100\n",
    "#list_files = [[\"CAIIZn_0.00_sulpiride_03_040417\",\"CAIIZn_5mM_sulpiride_19_040417\"]]\n",
    "list_files =[[\"MMP12Cat_AHA_T1_ref_270510\",\"MMP12Cat_Dive_T1_ref_peaks\"]]\n",
    "#list_files =[[\"MMP12Cat_AHA_T1_ref_270510\",\"MMP12Cat_NNGH_T1_ref_300707\"]]\n",
    "ta1 = ta(list_files)\n",
    "ta1.readsimple()\n",
    "print(\"Fatto\")\n",
    "m1,m2 = ta1.getDataFrame()\n",
    "#print(m1)"
   ]
  },
  {
   "cell_type": "code",
   "execution_count": 2,
   "outputs": [
    {
     "ename": "TypeError",
     "evalue": "can only concatenate str (not \"list\") to str",
     "output_type": "error",
     "traceback": [
      "\u001B[0;31m---------------------------------------------------------------------------\u001B[0m",
      "\u001B[0;31mTypeError\u001B[0m                                 Traceback (most recent call last)",
      "\u001B[0;32m<ipython-input-2-ded0cad2c954>\u001B[0m in \u001B[0;36m<module>\u001B[0;34m\u001B[0m\n\u001B[0;32m----> 1\u001B[0;31m \u001B[0mta2\u001B[0m \u001B[0;34m=\u001B[0m \u001B[0mta\u001B[0m\u001B[0;34m(\u001B[0m\u001B[0mlist_files\u001B[0m\u001B[0;34m)\u001B[0m\u001B[0;34m\u001B[0m\u001B[0;34m\u001B[0m\u001B[0m\n\u001B[0m\u001B[1;32m      2\u001B[0m \u001B[0;34m\u001B[0m\u001B[0m\n\u001B[1;32m      3\u001B[0m \u001B[0;34m\u001B[0m\u001B[0m\n\u001B[1;32m      4\u001B[0m \u001B[0;34m\u001B[0m\u001B[0m\n",
      "\u001B[0;32m~/PycharmProjects/peaks-identification/peaksIdentification/peacks_testannotated.py\u001B[0m in \u001B[0;36m__init__\u001B[0;34m(self, files, path)\u001B[0m\n\u001B[1;32m     16\u001B[0m     \u001B[0;32mdef\u001B[0m \u001B[0m__init__\u001B[0m\u001B[0;34m(\u001B[0m\u001B[0mself\u001B[0m\u001B[0;34m,\u001B[0m \u001B[0mfiles\u001B[0m\u001B[0;34m,\u001B[0m \u001B[0mpath\u001B[0m\u001B[0;34m=\u001B[0m\u001B[0;34m\"./data/Annotated_spectra/\"\u001B[0m\u001B[0;34m)\u001B[0m\u001B[0;34m:\u001B[0m\u001B[0;34m\u001B[0m\u001B[0;34m\u001B[0m\u001B[0m\n\u001B[1;32m     17\u001B[0m         \u001B[0mself\u001B[0m\u001B[0;34m.\u001B[0m\u001B[0mpath\u001B[0m \u001B[0;34m=\u001B[0m \u001B[0mpath\u001B[0m\u001B[0;34m\u001B[0m\u001B[0;34m\u001B[0m\u001B[0m\n\u001B[0;32m---> 18\u001B[0;31m         \u001B[0mfin1\u001B[0m \u001B[0;34m=\u001B[0m \u001B[0mself\u001B[0m\u001B[0;34m.\u001B[0m\u001B[0mpath\u001B[0m \u001B[0;34m+\u001B[0m \u001B[0mfiles\u001B[0m\u001B[0;34m[\u001B[0m\u001B[0;36m0\u001B[0m\u001B[0;34m]\u001B[0m \u001B[0;34m+\u001B[0m \u001B[0;34m\".txt\"\u001B[0m\u001B[0;34m\u001B[0m\u001B[0;34m\u001B[0m\u001B[0m\n\u001B[0m\u001B[1;32m     19\u001B[0m         \u001B[0mfin2\u001B[0m \u001B[0;34m=\u001B[0m \u001B[0mself\u001B[0m\u001B[0;34m.\u001B[0m\u001B[0mpath\u001B[0m \u001B[0;34m+\u001B[0m \u001B[0mfiles\u001B[0m\u001B[0;34m[\u001B[0m\u001B[0;36m1\u001B[0m\u001B[0;34m]\u001B[0m \u001B[0;34m+\u001B[0m \u001B[0;34m\".txt\"\u001B[0m\u001B[0;34m\u001B[0m\u001B[0;34m\u001B[0m\u001B[0m\n\u001B[1;32m     20\u001B[0m         \u001B[0mprint\u001B[0m\u001B[0;34m(\u001B[0m\u001B[0;34m\"*****************************+\"\u001B[0m\u001B[0;34m,\u001B[0m \u001B[0mfin1\u001B[0m\u001B[0;34m,\u001B[0m \u001B[0mfin2\u001B[0m\u001B[0;34m,\u001B[0m \u001B[0;34m\"*****************************\"\u001B[0m\u001B[0;34m)\u001B[0m\u001B[0;34m\u001B[0m\u001B[0;34m\u001B[0m\u001B[0m\n",
      "\u001B[0;31mTypeError\u001B[0m: can only concatenate str (not \"list\") to str"
     ]
    }
   ],
   "source": [
    "ta2 = ta(list_files)\n",
    "\n"
   ],
   "metadata": {
    "collapsed": false,
    "pycharm": {
     "name": "#%%\n"
    }
   }
  },
  {
   "cell_type": "code",
   "execution_count": 9,
   "metadata": {
    "tags": [
     "outputPrepend"
    ]
   },
   "outputs": [],
   "source": [
    "m1.size\n",
    "m2.size\n",
    "if m1.size > m2.size:\n",
    "    dm =distance_matrix(m1,m2)\n",
    "else:\n",
    "    dm =distance_matrix(m2,m1)"
   ]
  },
  {
   "cell_type": "code",
   "execution_count": 10,
   "metadata": {},
   "outputs": [
    {
     "data": {
      "text/plain": "149"
     },
     "execution_count": 10,
     "metadata": {},
     "output_type": "execute_result"
    }
   ],
   "source": [
    "size=np.shape(dm)\n",
    "a=dm[1,:]\n",
    "np.argmin(a)\n",
    "size[0]\n",
    "#ta1.read()"
   ]
  },
  {
   "cell_type": "code",
   "execution_count": 11,
   "outputs": [],
   "source": [
    "si = np.zeros(10, dtype=int)\n",
    "sc = np.zeros(10)\n",
    "sn = []\n",
    "for i in range(size[0]):\n",
    "    trow = dm[i,:]\n",
    "    tsn = []\n",
    "    tsi = []\n",
    "    tmax = trow.max()\n",
    "    for a in range(10):\n",
    "        ti = np.argmin(trow)\n",
    "        tsi.append(ti)\n",
    "        tsn.append(trow[ti])\n",
    "        trow[ti] = tmax+100\n",
    "    si = np.concatenate((si,tsi), axis=0)\n",
    "    sc = np.concatenate((sc,tsn), axis=0)\n",
    "\n",
    "si = np.reshape(si,(-1,10))\n",
    "sc = np.reshape(sc,(-1,10))\n",
    "si = np.delete(si, (0), axis=0)\n",
    "sc = np.delete(sc, (0), axis=0)\n"
   ],
   "metadata": {
    "collapsed": false,
    "pycharm": {
     "name": "#%%\n"
    }
   }
  },
  {
   "cell_type": "code",
   "execution_count": 12,
   "outputs": [
    {
     "name": "stdout",
     "output_type": "stream",
     "text": [
      "2.8783149584435685\n"
     ]
    }
   ],
   "source": [
    "print(dm[0,68])\n"
   ],
   "metadata": {
    "collapsed": false,
    "pycharm": {
     "name": "#%%\n"
    }
   }
  },
  {
   "cell_type": "code",
   "execution_count": 15,
   "outputs": [
    {
     "name": "stdout",
     "output_type": "stream",
     "text": [
      "The Cartesian Product is : [(1, 1), (1, 4), (1, 6), (1, 7), (3, 1), (3, 4), (3, 6), (3, 7), (4, 1), (4, 4), (4, 6), (4, 7)]\n"
     ]
    }
   ],
   "source": [
    "from itertools import product\n",
    "test_list = [1, 4, 6, 7]\n",
    "test_tup = (1, 3,4)\n",
    "res = list(product(test_tup, test_list))\n",
    "print(\"The Cartesian Product is : \" + str(res))"
   ],
   "metadata": {
    "collapsed": false,
    "pycharm": {
     "name": "#%%\n"
    }
   }
  },
  {
   "cell_type": "code",
   "execution_count": null,
   "outputs": [],
   "source": [],
   "metadata": {
    "collapsed": false,
    "pycharm": {
     "name": "#%%\n"
    }
   }
  }
 ]
}