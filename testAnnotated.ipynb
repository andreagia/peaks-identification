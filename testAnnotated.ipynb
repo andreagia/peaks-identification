{
 "metadata": {
  "language_info": {
   "codemirror_mode": {
    "name": "ipython",
    "version": 3
   },
   "file_extension": ".py",
   "mimetype": "text/x-python",
   "name": "python",
   "nbconvert_exporter": "python",
   "pygments_lexer": "ipython3",
   "version": "3.7.6-final"
  },
  "orig_nbformat": 2,
  "kernelspec": {
   "name": "python37664bitsecstrupytorchconda98aad91e1db64e5d9886db36666d66d0",
   "display_name": "Python 3.7.6 64-bit ('SecStruPytorch': conda)"
  }
 },
 "nbformat": 4,
 "nbformat_minor": 2,
 "cells": [
  {
   "cell_type": "code",
   "execution_count": 3,
   "metadata": {},
   "outputs": [],
   "source": [
    "from peaksIdentification.peacks_testannotated import TestAnnotated as ta\n",
    "\n",
    "'''\n",
    "list_files = [[\"CAIIZn_000_furo_03_170317\",\"CAIIZn_100_furo_11_170317\"],\n",
    "  [\"CAII_Zn_000_oxalate_04_221116\",\"CAII_Zn_15mM_oxalate_31_221116\"],\n",
    "  [\"CAII_Zn_000_pTS_04_291216\",\"CAII_Zn_100_pTS_15_291216\"],\n",
    "  [\"CAII_Zn_000_pTulpho_03_220317\",\"CAII_Zn_100f_pTulpho_18_220317\"],\n",
    "  [\"CAIIZn_0.00_sulpiride_03_040417\",\"CAIIZn_5mM_sulpiride_19_040417\"]]\n",
    "  '''\n",
    "\n",
    "\n",
    "#list_files = [[\"CAII_Zn_000_oxalate_04_221116\",\"CAII_Zn_15mM_oxalate_31_221116\"]] # 89\n",
    "#list_files = [[\"CAIIZn_000_furo_03_170317\",\"CAIIZn_100_furo_11_170317\"]]  # 85\n",
    "#list_files = [[\"CAII_Zn_000_pTS_04_291216\",\"CAII_Zn_100_pTS_15_291216\"]] # 89\n",
    "#list_files = [[\"CAII_Zn_000_pTulpho_03_220317\",\"CAII_Zn_100f_pTulpho_18_220317\"]] # 100\n",
    "#list_files = [[\"CAIIZn_0.00_sulpiride_03_040417\",\"CAIIZn_5mM_sulpiride_19_040417\"]] # 80\n",
    "list_files =[[\"MMP12Cat_AHA_T1_ref_270510\",\"MMP12Cat_Dive_T1_ref_peaks\"]]\n",
    "ta1 = ta(list_files)\n",
    "ta1.setSearch_depth =10"
   ]
  },
  {
   "cell_type": "code",
   "execution_count": 4,
   "metadata": {
    "tags": []
   },
   "outputs": [
    {
     "output_type": "stream",
     "name": "stdout",
     "text": "*****************************+ ./data/Annotated_spectra/MMP12Cat_AHA_T1_ref_270510.txt ./data/Annotated_spectra/MMP12Cat_Dive_T1_ref_peaks.txt *****************************\n(148, 2) (148, 2) (149, 2) (149, 2)\n           x        y\np_0    8.019  121.680\np_1    7.986  123.501\np_2    7.919  127.193\np_3    9.086  126.021\np_4    9.130  134.262\n...      ...      ...\np_143  6.930  116.951\np_144  8.088  119.664\np_145  8.247  127.580\np_146  8.457  122.961\np_147  7.627  114.351\n\n[148 rows x 2 columns]\n           x        y\ns_0    8.024  121.538\ns_1    7.998  123.755\ns_2    7.913  127.238\ns_3    9.076  126.109\ns_4    9.152  134.171\n...      ...      ...\ns_144  8.087  119.546\ns_145  8.125  125.402\ns_146  7.849  118.008\ns_147  7.704  114.405\ns_148  8.134  123.773\n\n[149 rows x 2 columns]\nRunning...\nCompleted.\nGood =  98\nBad =  50\nPerc good 0.6621621621621622\ndeepsearch=  5\n"
    },
    {
     "output_type": "display_data",
     "data": {
      "application/vnd.plotly.v1+json": {
       "config": {
        "plotlyServerURL": "https://plot.ly"
       },
       "data": [
        {
         "marker": {
          "color": "LightSkyBlue",
          "line": {
           "color": "MediumPurple",
           "width": 1
          },
          "size": 4
         },
         "mode": "markers+text",
         "name": "Spectra1",
         "text": [
          "G208",
          "I180",
          "T215",
          "I220",
          "K241",
          "S223",
          "H168",
          "D175",
          "G178",
          "V235",
          "T239",
          "F237",
          "A182",
          "W109",
          "L212",
          "T204",
          "Y240",
          "A216",
          "Y242",
          "G209",
          "H218",
          "G155",
          "E199",
          "N211",
          "A184",
          "Y121",
          "D254",
          "S251",
          "G227",
          "D131",
          "G193",
          "S229",
          "H206",
          "H172",
          "F197",
          "H196",
          "A195",
          "A173",
          "T247",
          "A137",
          "I245",
          "V144",
          "M236",
          "G179",
          "W141",
          "L250",
          "V243",
          "R256",
          "S207",
          "T210",
          "H183",
          "D231",
          "G257",
          "D253",
          "F163",
          "T122",
          "G221",
          "R165",
          "N246",
          "G225",
          "L181",
          "E201",
          "R249",
          "A133",
          "D194",
          "H112",
          "E219",
          "Y113",
          "L214",
          "K177",
          "G192",
          "Y132",
          "Q139",
          "R135",
          "D124",
          "V108",
          "I191",
          "D200",
          "N153",
          "Y262",
          "H228",
          "K111",
          "I255",
          "A167",
          "G186",
          "V217",
          "W203",
          "A164",
          "F202",
          "G166",
          "D198",
          "F174",
          "Q259",
          "D158",
          "K151",
          "G176",
          "S142",
          "D129",
          "D244",
          "N143",
          "S260",
          "K136",
          "L226",
          "T145",
          "G188",
          "N120",
          "S150",
          "V140",
          "K148",
          "L224",
          "V162",
          "F248",
          "E128",
          "N126",
          "H222",
          "R117",
          "F213",
          "S189",
          "G263",
          "L261",
          "A157",
          "K233",
          "I114",
          "I152",
          "A234",
          "A252",
          "T205",
          "F138",
          "N119",
          "I159",
          "L147",
          "L160",
          "F149",
          "M156",
          "G190",
          "I134",
          "V161",
          "F185",
          "R110",
          "Y116",
          "R127",
          "T154",
          "M125",
          "S230",
          "T115",
          "V130",
          "I118",
          "I258"
         ],
         "textposition": "bottom center",
         "type": "scatter",
         "x": [
          9.551,
          10.662,
          7.546,
          8.802,
          7.441,
          8.386,
          9.223,
          8.231,
          11.076,
          11.315,
          6.361,
          7.943,
          7.461,
          8.181,
          8.57,
          8.264,
          8.247,
          9.405,
          8.457,
          7.89,
          6.891,
          8.267,
          9.468,
          8.425,
          8.347,
          6.93,
          7.425,
          8.861,
          8.299,
          8.336,
          7.834,
          7.087,
          7.964,
          7.484,
          9.137,
          9.274,
          8.547,
          7.894,
          7.537,
          7.986,
          7.745,
          7.116,
          7.587,
          8.456,
          6.689,
          8.093,
          5.868,
          8.503,
          7.927,
          9.136,
          9.254,
          8.912,
          8.281,
          8.213,
          8.54,
          8.504,
          7.485,
          8.757,
          8.482,
          8.113,
          9.392,
          7.373,
          7.109,
          8.019,
          8.247,
          8.314,
          8.807,
          6.953,
          8.922,
          8.664,
          7.608,
          8.088,
          8.011,
          8.189,
          8.81,
          7.216,
          8.958,
          9.008,
          8.752,
          7.627,
          8.405,
          7.49,
          7.922,
          9.13,
          8.204,
          8.255,
          9.162,
          9.086,
          8.397,
          9.485,
          8.109,
          7.911,
          8.66,
          8.005,
          8.08,
          8.747,
          9.044,
          7.42,
          7.807,
          7.964,
          7.896,
          8.479,
          8.229,
          7.419,
          5.624,
          7.756,
          8.039,
          7.614,
          8.122,
          7.799,
          8.724,
          7.177,
          9.069,
          8.861,
          7.099,
          8.318,
          9.217,
          8.334,
          8.082,
          6.931,
          7.919,
          8.227,
          8.253,
          8.698,
          8.133,
          8.773,
          8.255,
          7.705,
          9.655,
          8.893,
          6.897,
          7.533,
          8.179,
          8.191,
          8.947,
          8.013,
          8.735,
          8.008,
          9.229,
          8.587,
          8.914,
          7.424,
          6.899,
          8.755,
          9.201,
          7.714,
          9.127,
          8.607
         ],
         "y": [
          115.291,
          132.036,
          115.118,
          114.911,
          127.034,
          121.055,
          120.78,
          116.392,
          121.557,
          131.365,
          111.172,
          127.513,
          114.943,
          122.973,
          131.681,
          109.66,
          127.58,
          124.859,
          122.961,
          108.233,
          117.826,
          109.737,
          130.695,
          125.723,
          120.83,
          116.951,
          118.951,
          118.241,
          109.897,
          118.435,
          119.631,
          114.336,
          122.654,
          120.956,
          122.947,
          121.548,
          119.844,
          123.439,
          109.337,
          123.501,
          124.19,
          106.503,
          115.268,
          110.529,
          116.882,
          121.312,
          124.342,
          119.292,
          114.564,
          124.656,
          114.588,
          126.628,
          106.836,
          117.671,
          125.736,
          114.562,
          108.121,
          118.02,
          118.261,
          106.593,
          130.564,
          116.733,
          126.342,
          121.68,
          122.525,
          114.645,
          115.033,
          120.312,
          118.039,
          124.196,
          106.091,
          119.664,
          118.963,
          119.749,
          121.857,
          110.487,
          133.892,
          119.449,
          119.42,
          114.351,
          115.193,
          116.054,
          118.847,
          134.262,
          105.457,
          117.886,
          131.498,
          126.021,
          126.38,
          108.213,
          123.021,
          119.804,
          123.527,
          121.359,
          127.738,
          110.12,
          118.494,
          119.817,
          118.892,
          115.247,
          115.49,
          119.032,
          121.25,
          110.339,
          106.807,
          113.324,
          116.609,
          117.475,
          122.507,
          114.447,
          126.824,
          123.177,
          116.249,
          118.717,
          119.764,
          119.068,
          120.59,
          114.571,
          115.814,
          119.075,
          127.193,
          116.732,
          128.577,
          123.536,
          123.734,
          123.524,
          110.069,
          114.368,
          128.636,
          124.282,
          116.472,
          130.123,
          119.515,
          119.142,
          112.262,
          114.007,
          125.408,
          120.728,
          124.83,
          117.451,
          126.019,
          111.77,
          113.255,
          119.809,
          117.391,
          124.034,
          127.113,
          123.613
         ]
        },
        {
         "marker": {
          "color": "Coral",
          "line": {
           "color": "MediumPurple",
           "width": 1
          },
          "size": 4
         },
         "mode": "markers+text",
         "name": "Spectra2",
         "text": [
          "S251",
          "K241",
          "M236",
          "G179",
          "A173",
          "V217",
          "S142",
          "Y242",
          "G178",
          "I180",
          "T239",
          "F237",
          "T215",
          "A234",
          "L212",
          "H183",
          "D231",
          "V235",
          "F197",
          "G209",
          "H218",
          "T205",
          "L181",
          "Y240",
          "F174",
          "Y121",
          "D254",
          "L214",
          "G227",
          "N246",
          "F185",
          "S229",
          "K148",
          "H172",
          "S223",
          "H196",
          "A195",
          "D198",
          "T247",
          "A137",
          "I245",
          "V144",
          "A182",
          "T204",
          "W141",
          "A184",
          "V243",
          "R256",
          "S207",
          "T210",
          "G208",
          "N211",
          "G257",
          "K233",
          "F163",
          "T122",
          "G221",
          "R165",
          "D131",
          "G225",
          "E199",
          "E201",
          "R249",
          "A133",
          "D194",
          "H112",
          "E219",
          "Y113",
          "F213",
          "K177",
          "G192",
          "Y132",
          "I255",
          "R135",
          "D124",
          "V108",
          "I191",
          "D200",
          "N153",
          "F138",
          "H228",
          "K111",
          "Q139",
          "A167",
          "G186",
          "D253",
          "W203",
          "A164",
          "F202",
          "G166",
          "H206",
          "G193",
          "I258",
          "D158",
          "K151",
          "G176",
          "I220",
          "D129",
          "D244",
          "N143",
          "S260",
          "K136",
          "L226",
          "T145",
          "G188",
          "N120",
          "S150",
          "V140",
          "W109",
          "L224",
          "V162",
          "F248",
          "E128",
          "N126",
          "H222",
          "R117",
          "H168",
          "S189",
          "G263",
          "L261",
          "A157",
          "D175",
          "I114",
          "I152",
          "D171",
          "A252",
          "G155",
          "Y262",
          "N119",
          "I159",
          "L147",
          "L160",
          "F149",
          "M156",
          "G190",
          "I134",
          "V161",
          "L250",
          "R110",
          "Y116",
          "R127",
          "T154",
          "M125",
          "S230",
          "T115",
          "V130",
          "I118",
          "Q259"
         ],
         "textposition": "bottom center",
         "type": "scatter",
         "x": [
          8.692,
          7.725,
          7.24,
          8.747,
          7.973,
          8.281,
          8.945,
          7.849,
          11.389,
          10.338,
          6.383,
          8.215,
          7.788,
          7.935,
          8.458,
          8.95,
          9.006,
          9.807,
          9.081,
          7.799,
          7.21,
          8.21,
          9.55,
          8.125,
          7.974,
          7.017,
          7.502,
          8.733,
          8.096,
          8.509,
          7.83,
          7.349,
          8.108,
          7.446,
          9.059,
          9.315,
          8.448,
          8.079,
          7.622,
          7.998,
          7.838,
          7.065,
          7.644,
          8.404,
          6.636,
          8.259,
          5.726,
          8.419,
          7.948,
          9.154,
          9.398,
          8.723,
          8.295,
          8.386,
          8.537,
          8.49,
          7.538,
          8.737,
          8.336,
          8.101,
          9.376,
          7.396,
          6.977,
          8.024,
          8.23,
          8.317,
          8.876,
          6.959,
          9.041,
          8.608,
          7.618,
          8.087,
          7.894,
          8.195,
          8.842,
          7.216,
          8.958,
          9.054,
          8.752,
          7.703,
          8.319,
          7.486,
          8.017,
          9.152,
          8.232,
          8.201,
          9.134,
          9.076,
          8.392,
          9.459,
          8.024,
          7.843,
          8.584,
          8.02,
          8.087,
          8.708,
          8.969,
          7.43,
          7.794,
          7.998,
          7.88,
          8.481,
          8.215,
          7.419,
          5.661,
          7.772,
          8.031,
          7.637,
          8.161,
          7.748,
          8.677,
          7.228,
          9.072,
          8.887,
          7.074,
          8.295,
          9.225,
          8.335,
          8.064,
          6.912,
          7.913,
          8.223,
          8.232,
          8.712,
          8.134,
          8.757,
          8.232,
          7.704,
          9.673,
          8.867,
          6.875,
          7.533,
          8.188,
          8.198,
          8.92,
          8.017,
          8.723,
          7.99,
          9.224,
          8.595,
          8.918,
          7.427,
          6.901,
          8.748,
          9.203,
          7.71,
          9.127,
          8.603
         ],
         "y": [
          118.662,
          130.774,
          112.255,
          112.056,
          124.498,
          118.839,
          118.843,
          118.008,
          122.795,
          130.642,
          110.083,
          128.525,
          114.078,
          123.85,
          130.866,
          110.107,
          127.383,
          124.193,
          122.569,
          108.964,
          118.416,
          110.371,
          130.134,
          125.402,
          120.606,
          117.369,
          119.369,
          118.622,
          110.199,
          118.711,
          119.942,
          114.49,
          122.394,
          120.665,
          123.225,
          121.833,
          119.577,
          123.234,
          109.579,
          123.755,
          124.421,
          106.262,
          115.504,
          110.318,
          116.676,
          121.44,
          124.496,
          119.101,
          114.766,
          124.853,
          114.722,
          126.645,
          107.013,
          117.683,
          125.563,
          114.394,
          107.961,
          117.853,
          118.329,
          106.75,
          130.411,
          116.882,
          126.403,
          121.538,
          122.387,
          114.51,
          115.149,
          120.44,
          118.009,
          124.088,
          106.211,
          119.546,
          118.97,
          119.634,
          121.966,
          110.6,
          133.783,
          119.547,
          119.316,
          114.281,
          115.136,
          115.956,
          118.858,
          134.171,
          105.369,
          117.814,
          131.583,
          126.109,
          126.292,
          108.296,
          123.019,
          119.854,
          123.491,
          121.439,
          127.814,
          110.185,
          118.489,
          119.891,
          118.965,
          115.311,
          115.42,
          119.103,
          121.188,
          110.276,
          106.854,
          113.38,
          116.665,
          117.526,
          122.547,
          114.427,
          126.797,
          123.193,
          116.196,
          118.762,
          119.719,
          119.114,
          120.542,
          114.619,
          115.77,
          119.117,
          127.238,
          116.776,
          128.613,
          123.573,
          123.773,
          123.559,
          110.039,
          114.405,
          128.607,
          124.261,
          116.496,
          130.155,
          119.545,
          119.113,
          112.254,
          113.981,
          125.431,
          120.716,
          124.85,
          117.467,
          126.035,
          111.783,
          113.245,
          119.815,
          117.399,
          124.027,
          127.107,
          123.614
         ]
        },
        {
         "line": {
          "color": "red"
         },
         "mode": "lines",
         "showlegend": false,
         "type": "scatter",
         "x": [
          9.551,
          8.692
         ],
         "y": [
          115.291,
          118.662
         ]
        },
        {
         "line": {
          "color": "red"
         },
         "mode": "lines",
         "showlegend": false,
         "type": "scatter",
         "x": [
          10.662,
          7.725
         ],
         "y": [
          132.036,
          130.774
         ]
        },
        {
         "line": {
          "color": "red"
         },
         "mode": "lines",
         "showlegend": false,
         "type": "scatter",
         "x": [
          7.546,
          7.24
         ],
         "y": [
          115.118,
          112.255
         ]
        },
        {
         "line": {
          "color": "red"
         },
         "mode": "lines",
         "showlegend": false,
         "type": "scatter",
         "x": [
          8.802,
          8.747
         ],
         "y": [
          114.911,
          112.056
         ]
        },
        {
         "line": {
          "color": "red"
         },
         "mode": "lines",
         "showlegend": false,
         "type": "scatter",
         "x": [
          7.441,
          7.973
         ],
         "y": [
          127.034,
          124.498
         ]
        },
        {
         "line": {
          "color": "red"
         },
         "mode": "lines",
         "showlegend": false,
         "type": "scatter",
         "x": [
          8.386,
          8.281
         ],
         "y": [
          121.055,
          118.839
         ]
        },
        {
         "line": {
          "color": "red"
         },
         "mode": "lines",
         "showlegend": false,
         "type": "scatter",
         "x": [
          9.223,
          8.945
         ],
         "y": [
          120.78,
          118.843
         ]
        },
        {
         "line": {
          "color": "red"
         },
         "mode": "lines",
         "showlegend": false,
         "type": "scatter",
         "x": [
          8.231,
          7.849
         ],
         "y": [
          116.392,
          118.008
         ]
        },
        {
         "line": {
          "color": "MediumPurple"
         },
         "mode": "lines",
         "showlegend": false,
         "type": "scatter",
         "x": [
          11.076,
          11.389
         ],
         "y": [
          121.557,
          122.795
         ]
        },
        {
         "line": {
          "color": "red"
         },
         "mode": "lines",
         "showlegend": false,
         "type": "scatter",
         "x": [
          11.315,
          10.338
         ],
         "y": [
          131.365,
          130.642
         ]
        },
        {
         "line": {
          "color": "MediumPurple"
         },
         "mode": "lines",
         "showlegend": false,
         "type": "scatter",
         "x": [
          6.361,
          6.383
         ],
         "y": [
          111.172,
          110.083
         ]
        },
        {
         "line": {
          "color": "MediumPurple"
         },
         "mode": "lines",
         "showlegend": false,
         "type": "scatter",
         "x": [
          7.943,
          8.215
         ],
         "y": [
          127.513,
          128.525
         ]
        },
        {
         "line": {
          "color": "red"
         },
         "mode": "lines",
         "showlegend": false,
         "type": "scatter",
         "x": [
          7.461,
          7.788
         ],
         "y": [
          114.943,
          114.078
         ]
        },
        {
         "line": {
          "color": "red"
         },
         "mode": "lines",
         "showlegend": false,
         "type": "scatter",
         "x": [
          8.181,
          7.935
         ],
         "y": [
          122.973,
          123.85
         ]
        },
        {
         "line": {
          "color": "MediumPurple"
         },
         "mode": "lines",
         "showlegend": false,
         "type": "scatter",
         "x": [
          8.57,
          8.458
         ],
         "y": [
          131.681,
          130.866
         ]
        },
        {
         "line": {
          "color": "red"
         },
         "mode": "lines",
         "showlegend": false,
         "type": "scatter",
         "x": [
          8.264,
          8.95
         ],
         "y": [
          109.66,
          110.107
         ]
        },
        {
         "line": {
          "color": "red"
         },
         "mode": "lines",
         "showlegend": false,
         "type": "scatter",
         "x": [
          8.247,
          9.006
         ],
         "y": [
          127.58,
          127.383
         ]
        },
        {
         "line": {
          "color": "red"
         },
         "mode": "lines",
         "showlegend": false,
         "type": "scatter",
         "x": [
          9.405,
          9.807
         ],
         "y": [
          124.859,
          124.193
         ]
        },
        {
         "line": {
          "color": "red"
         },
         "mode": "lines",
         "showlegend": false,
         "type": "scatter",
         "x": [
          8.457,
          9.081
         ],
         "y": [
          122.961,
          122.569
         ]
        },
        {
         "line": {
          "color": "MediumPurple"
         },
         "mode": "lines",
         "showlegend": false,
         "type": "scatter",
         "x": [
          7.89,
          7.799
         ],
         "y": [
          108.233,
          108.964
         ]
        },
        {
         "line": {
          "color": "MediumPurple"
         },
         "mode": "lines",
         "showlegend": false,
         "type": "scatter",
         "x": [
          6.891,
          7.21
         ],
         "y": [
          117.826,
          118.416
         ]
        },
        {
         "line": {
          "color": "red"
         },
         "mode": "lines",
         "showlegend": false,
         "type": "scatter",
         "x": [
          8.267,
          8.21
         ],
         "y": [
          109.737,
          110.371
         ]
        },
        {
         "line": {
          "color": "red"
         },
         "mode": "lines",
         "showlegend": false,
         "type": "scatter",
         "x": [
          9.468,
          9.55
         ],
         "y": [
          130.695,
          130.134
         ]
        },
        {
         "line": {
          "color": "red"
         },
         "mode": "lines",
         "showlegend": false,
         "type": "scatter",
         "x": [
          8.425,
          8.125
         ],
         "y": [
          125.723,
          125.402
         ]
        },
        {
         "line": {
          "color": "red"
         },
         "mode": "lines",
         "showlegend": false,
         "type": "scatter",
         "x": [
          8.347,
          7.974
         ],
         "y": [
          120.83,
          120.606
         ]
        },
        {
         "line": {
          "color": "MediumPurple"
         },
         "mode": "lines",
         "showlegend": false,
         "type": "scatter",
         "x": [
          6.93,
          7.017
         ],
         "y": [
          116.951,
          117.369
         ]
        },
        {
         "line": {
          "color": "MediumPurple"
         },
         "mode": "lines",
         "showlegend": false,
         "type": "scatter",
         "x": [
          7.425,
          7.502
         ],
         "y": [
          118.951,
          119.369
         ]
        },
        {
         "line": {
          "color": "red"
         },
         "mode": "lines",
         "showlegend": false,
         "type": "scatter",
         "x": [
          8.861,
          8.733
         ],
         "y": [
          118.241,
          118.622
         ]
        },
        {
         "line": {
          "color": "MediumPurple"
         },
         "mode": "lines",
         "showlegend": false,
         "type": "scatter",
         "x": [
          8.299,
          8.096
         ],
         "y": [
          109.897,
          110.199
         ]
        },
        {
         "line": {
          "color": "red"
         },
         "mode": "lines",
         "showlegend": false,
         "type": "scatter",
         "x": [
          8.336,
          8.509
         ],
         "y": [
          118.435,
          118.711
         ]
        },
        {
         "line": {
          "color": "red"
         },
         "mode": "lines",
         "showlegend": false,
         "type": "scatter",
         "x": [
          7.834,
          7.83
         ],
         "y": [
          119.631,
          119.942
         ]
        },
        {
         "line": {
          "color": "MediumPurple"
         },
         "mode": "lines",
         "showlegend": false,
         "type": "scatter",
         "x": [
          7.087,
          7.349
         ],
         "y": [
          114.336,
          114.49
         ]
        },
        {
         "line": {
          "color": "red"
         },
         "mode": "lines",
         "showlegend": false,
         "type": "scatter",
         "x": [
          7.964,
          8.108
         ],
         "y": [
          122.654,
          122.394
         ]
        },
        {
         "line": {
          "color": "MediumPurple"
         },
         "mode": "lines",
         "showlegend": false,
         "type": "scatter",
         "x": [
          7.484,
          7.446
         ],
         "y": [
          120.956,
          120.665
         ]
        },
        {
         "line": {
          "color": "red"
         },
         "mode": "lines",
         "showlegend": false,
         "type": "scatter",
         "x": [
          9.137,
          9.059
         ],
         "y": [
          122.947,
          123.225
         ]
        },
        {
         "line": {
          "color": "MediumPurple"
         },
         "mode": "lines",
         "showlegend": false,
         "type": "scatter",
         "x": [
          9.274,
          9.315
         ],
         "y": [
          121.548,
          121.833
         ]
        },
        {
         "line": {
          "color": "MediumPurple"
         },
         "mode": "lines",
         "showlegend": false,
         "type": "scatter",
         "x": [
          8.547,
          8.448
         ],
         "y": [
          119.844,
          119.577
         ]
        },
        {
         "line": {
          "color": "red"
         },
         "mode": "lines",
         "showlegend": false,
         "type": "scatter",
         "x": [
          7.894,
          8.079
         ],
         "y": [
          123.439,
          123.234
         ]
        },
        {
         "line": {
          "color": "MediumPurple"
         },
         "mode": "lines",
         "showlegend": false,
         "type": "scatter",
         "x": [
          7.537,
          7.622
         ],
         "y": [
          109.337,
          109.579
         ]
        },
        {
         "line": {
          "color": "MediumPurple"
         },
         "mode": "lines",
         "showlegend": false,
         "type": "scatter",
         "x": [
          7.986,
          7.998
         ],
         "y": [
          123.501,
          123.755
         ]
        },
        {
         "line": {
          "color": "MediumPurple"
         },
         "mode": "lines",
         "showlegend": false,
         "type": "scatter",
         "x": [
          7.745,
          7.838
         ],
         "y": [
          124.19,
          124.421
         ]
        },
        {
         "line": {
          "color": "MediumPurple"
         },
         "mode": "lines",
         "showlegend": false,
         "type": "scatter",
         "x": [
          7.116,
          7.065
         ],
         "y": [
          106.503,
          106.262
         ]
        },
        {
         "line": {
          "color": "red"
         },
         "mode": "lines",
         "showlegend": false,
         "type": "scatter",
         "x": [
          7.587,
          7.644
         ],
         "y": [
          115.268,
          115.504
         ]
        },
        {
         "line": {
          "color": "red"
         },
         "mode": "lines",
         "showlegend": false,
         "type": "scatter",
         "x": [
          8.456,
          8.404
         ],
         "y": [
          110.529,
          110.318
         ]
        },
        {
         "line": {
          "color": "MediumPurple"
         },
         "mode": "lines",
         "showlegend": false,
         "type": "scatter",
         "x": [
          6.689,
          6.636
         ],
         "y": [
          116.882,
          116.676
         ]
        },
        {
         "line": {
          "color": "red"
         },
         "mode": "lines",
         "showlegend": false,
         "type": "scatter",
         "x": [
          8.093,
          8.259
         ],
         "y": [
          121.312,
          121.44
         ]
        },
        {
         "line": {
          "color": "MediumPurple"
         },
         "mode": "lines",
         "showlegend": false,
         "type": "scatter",
         "x": [
          5.868,
          5.726
         ],
         "y": [
          124.342,
          124.496
         ]
        },
        {
         "line": {
          "color": "MediumPurple"
         },
         "mode": "lines",
         "showlegend": false,
         "type": "scatter",
         "x": [
          8.503,
          8.419
         ],
         "y": [
          119.292,
          119.101
         ]
        },
        {
         "line": {
          "color": "MediumPurple"
         },
         "mode": "lines",
         "showlegend": false,
         "type": "scatter",
         "x": [
          7.927,
          7.948
         ],
         "y": [
          114.564,
          114.766
         ]
        },
        {
         "line": {
          "color": "MediumPurple"
         },
         "mode": "lines",
         "showlegend": false,
         "type": "scatter",
         "x": [
          9.136,
          9.154
         ],
         "y": [
          124.656,
          124.853
         ]
        },
        {
         "line": {
          "color": "red"
         },
         "mode": "lines",
         "showlegend": false,
         "type": "scatter",
         "x": [
          9.254,
          9.398
         ],
         "y": [
          114.588,
          114.722
         ]
        },
        {
         "line": {
          "color": "red"
         },
         "mode": "lines",
         "showlegend": false,
         "type": "scatter",
         "x": [
          8.912,
          8.723
         ],
         "y": [
          126.628,
          126.645
         ]
        },
        {
         "line": {
          "color": "MediumPurple"
         },
         "mode": "lines",
         "showlegend": false,
         "type": "scatter",
         "x": [
          8.281,
          8.295
         ],
         "y": [
          106.836,
          107.013
         ]
        },
        {
         "line": {
          "color": "red"
         },
         "mode": "lines",
         "showlegend": false,
         "type": "scatter",
         "x": [
          8.213,
          8.386
         ],
         "y": [
          117.671,
          117.683
         ]
        },
        {
         "line": {
          "color": "MediumPurple"
         },
         "mode": "lines",
         "showlegend": false,
         "type": "scatter",
         "x": [
          8.54,
          8.537
         ],
         "y": [
          125.736,
          125.563
         ]
        },
        {
         "line": {
          "color": "MediumPurple"
         },
         "mode": "lines",
         "showlegend": false,
         "type": "scatter",
         "x": [
          8.504,
          8.49
         ],
         "y": [
          114.562,
          114.394
         ]
        },
        {
         "line": {
          "color": "MediumPurple"
         },
         "mode": "lines",
         "showlegend": false,
         "type": "scatter",
         "x": [
          7.485,
          7.538
         ],
         "y": [
          108.121,
          107.961
         ]
        },
        {
         "line": {
          "color": "MediumPurple"
         },
         "mode": "lines",
         "showlegend": false,
         "type": "scatter",
         "x": [
          8.757,
          8.737
         ],
         "y": [
          118.02,
          117.853
         ]
        },
        {
         "line": {
          "color": "red"
         },
         "mode": "lines",
         "showlegend": false,
         "type": "scatter",
         "x": [
          8.482,
          8.336
         ],
         "y": [
          118.261,
          118.329
         ]
        },
        {
         "line": {
          "color": "MediumPurple"
         },
         "mode": "lines",
         "showlegend": false,
         "type": "scatter",
         "x": [
          8.113,
          8.101
         ],
         "y": [
          106.593,
          106.75
         ]
        },
        {
         "line": {
          "color": "red"
         },
         "mode": "lines",
         "showlegend": false,
         "type": "scatter",
         "x": [
          9.392,
          9.376
         ],
         "y": [
          130.564,
          130.411
         ]
        },
        {
         "line": {
          "color": "MediumPurple"
         },
         "mode": "lines",
         "showlegend": false,
         "type": "scatter",
         "x": [
          7.373,
          7.396
         ],
         "y": [
          116.733,
          116.882
         ]
        },
        {
         "line": {
          "color": "MediumPurple"
         },
         "mode": "lines",
         "showlegend": false,
         "type": "scatter",
         "x": [
          7.109,
          6.977
         ],
         "y": [
          126.342,
          126.403
         ]
        },
        {
         "line": {
          "color": "MediumPurple"
         },
         "mode": "lines",
         "showlegend": false,
         "type": "scatter",
         "x": [
          8.019,
          8.024
         ],
         "y": [
          121.68,
          121.538
         ]
        },
        {
         "line": {
          "color": "MediumPurple"
         },
         "mode": "lines",
         "showlegend": false,
         "type": "scatter",
         "x": [
          8.247,
          8.23
         ],
         "y": [
          122.525,
          122.387
         ]
        },
        {
         "line": {
          "color": "MediumPurple"
         },
         "mode": "lines",
         "showlegend": false,
         "type": "scatter",
         "x": [
          8.314,
          8.317
         ],
         "y": [
          114.645,
          114.51
         ]
        },
        {
         "line": {
          "color": "MediumPurple"
         },
         "mode": "lines",
         "showlegend": false,
         "type": "scatter",
         "x": [
          8.807,
          8.876
         ],
         "y": [
          115.033,
          115.149
         ]
        },
        {
         "line": {
          "color": "MediumPurple"
         },
         "mode": "lines",
         "showlegend": false,
         "type": "scatter",
         "x": [
          6.953,
          6.959
         ],
         "y": [
          120.312,
          120.44
         ]
        },
        {
         "line": {
          "color": "red"
         },
         "mode": "lines",
         "showlegend": false,
         "type": "scatter",
         "x": [
          8.922,
          9.041
         ],
         "y": [
          118.039,
          118.009
         ]
        },
        {
         "line": {
          "color": "MediumPurple"
         },
         "mode": "lines",
         "showlegend": false,
         "type": "scatter",
         "x": [
          8.664,
          8.608
         ],
         "y": [
          124.196,
          124.088
         ]
        },
        {
         "line": {
          "color": "MediumPurple"
         },
         "mode": "lines",
         "showlegend": false,
         "type": "scatter",
         "x": [
          7.608,
          7.618
         ],
         "y": [
          106.091,
          106.211
         ]
        },
        {
         "line": {
          "color": "MediumPurple"
         },
         "mode": "lines",
         "showlegend": false,
         "type": "scatter",
         "x": [
          8.088,
          8.087
         ],
         "y": [
          119.664,
          119.546
         ]
        },
        {
         "line": {
          "color": "red"
         },
         "mode": "lines",
         "showlegend": false,
         "type": "scatter",
         "x": [
          8.011,
          7.894
         ],
         "y": [
          118.963,
          118.97
         ]
        },
        {
         "line": {
          "color": "MediumPurple"
         },
         "mode": "lines",
         "showlegend": false,
         "type": "scatter",
         "x": [
          8.189,
          8.195
         ],
         "y": [
          119.749,
          119.634
         ]
        },
        {
         "line": {
          "color": "MediumPurple"
         },
         "mode": "lines",
         "showlegend": false,
         "type": "scatter",
         "x": [
          8.81,
          8.842
         ],
         "y": [
          121.857,
          121.966
         ]
        },
        {
         "line": {
          "color": "MediumPurple"
         },
         "mode": "lines",
         "showlegend": false,
         "type": "scatter",
         "x": [
          7.216,
          7.216
         ],
         "y": [
          110.487,
          110.6
         ]
        },
        {
         "line": {
          "color": "MediumPurple"
         },
         "mode": "lines",
         "showlegend": false,
         "type": "scatter",
         "x": [
          8.958,
          8.958
         ],
         "y": [
          133.892,
          133.783
         ]
        },
        {
         "line": {
          "color": "MediumPurple"
         },
         "mode": "lines",
         "showlegend": false,
         "type": "scatter",
         "x": [
          9.008,
          9.054
         ],
         "y": [
          119.449,
          119.547
         ]
        },
        {
         "line": {
          "color": "MediumPurple"
         },
         "mode": "lines",
         "showlegend": false,
         "type": "scatter",
         "x": [
          8.752,
          8.752
         ],
         "y": [
          119.42,
          119.316
         ]
        },
        {
         "line": {
          "color": "red"
         },
         "mode": "lines",
         "showlegend": false,
         "type": "scatter",
         "x": [
          7.627,
          7.703
         ],
         "y": [
          114.351,
          114.281
         ]
        },
        {
         "line": {
          "color": "MediumPurple"
         },
         "mode": "lines",
         "showlegend": false,
         "type": "scatter",
         "x": [
          8.405,
          8.319
         ],
         "y": [
          115.193,
          115.136
         ]
        },
        {
         "line": {
          "color": "MediumPurple"
         },
         "mode": "lines",
         "showlegend": false,
         "type": "scatter",
         "x": [
          7.49,
          7.486
         ],
         "y": [
          116.054,
          115.956
         ]
        },
        {
         "line": {
          "color": "red"
         },
         "mode": "lines",
         "showlegend": false,
         "type": "scatter",
         "x": [
          7.922,
          8.017
         ],
         "y": [
          118.847,
          118.858
         ]
        },
        {
         "line": {
          "color": "MediumPurple"
         },
         "mode": "lines",
         "showlegend": false,
         "type": "scatter",
         "x": [
          9.13,
          9.152
         ],
         "y": [
          134.262,
          134.171
         ]
        },
        {
         "line": {
          "color": "MediumPurple"
         },
         "mode": "lines",
         "showlegend": false,
         "type": "scatter",
         "x": [
          8.204,
          8.232
         ],
         "y": [
          105.457,
          105.369
         ]
        },
        {
         "line": {
          "color": "red"
         },
         "mode": "lines",
         "showlegend": false,
         "type": "scatter",
         "x": [
          8.255,
          8.201
         ],
         "y": [
          117.886,
          117.814
         ]
        },
        {
         "line": {
          "color": "MediumPurple"
         },
         "mode": "lines",
         "showlegend": false,
         "type": "scatter",
         "x": [
          9.162,
          9.134
         ],
         "y": [
          131.498,
          131.583
         ]
        },
        {
         "line": {
          "color": "MediumPurple"
         },
         "mode": "lines",
         "showlegend": false,
         "type": "scatter",
         "x": [
          9.086,
          9.076
         ],
         "y": [
          126.021,
          126.109
         ]
        },
        {
         "line": {
          "color": "MediumPurple"
         },
         "mode": "lines",
         "showlegend": false,
         "type": "scatter",
         "x": [
          8.397,
          8.392
         ],
         "y": [
          126.38,
          126.292
         ]
        },
        {
         "line": {
          "color": "MediumPurple"
         },
         "mode": "lines",
         "showlegend": false,
         "type": "scatter",
         "x": [
          9.485,
          9.459
         ],
         "y": [
          108.213,
          108.296
         ]
        },
        {
         "line": {
          "color": "red"
         },
         "mode": "lines",
         "showlegend": false,
         "type": "scatter",
         "x": [
          8.109,
          8.024
         ],
         "y": [
          123.021,
          123.019
         ]
        },
        {
         "line": {
          "color": "red"
         },
         "mode": "lines",
         "showlegend": false,
         "type": "scatter",
         "x": [
          7.911,
          7.843
         ],
         "y": [
          119.804,
          119.854
         ]
        },
        {
         "line": {
          "color": "red"
         },
         "mode": "lines",
         "showlegend": false,
         "type": "scatter",
         "x": [
          8.66,
          8.584
         ],
         "y": [
          123.527,
          123.491
         ]
        },
        {
         "line": {
          "color": "MediumPurple"
         },
         "mode": "lines",
         "showlegend": false,
         "type": "scatter",
         "x": [
          8.005,
          8.02
         ],
         "y": [
          121.359,
          121.439
         ]
        },
        {
         "line": {
          "color": "MediumPurple"
         },
         "mode": "lines",
         "showlegend": false,
         "type": "scatter",
         "x": [
          8.08,
          8.087
         ],
         "y": [
          127.738,
          127.814
         ]
        },
        {
         "line": {
          "color": "MediumPurple"
         },
         "mode": "lines",
         "showlegend": false,
         "type": "scatter",
         "x": [
          8.747,
          8.708
         ],
         "y": [
          110.12,
          110.185
         ]
        },
        {
         "line": {
          "color": "red"
         },
         "mode": "lines",
         "showlegend": false,
         "type": "scatter",
         "x": [
          9.044,
          8.969
         ],
         "y": [
          118.494,
          118.489
         ]
        },
        {
         "line": {
          "color": "MediumPurple"
         },
         "mode": "lines",
         "showlegend": false,
         "type": "scatter",
         "x": [
          7.42,
          7.43
         ],
         "y": [
          119.817,
          119.891
         ]
        },
        {
         "line": {
          "color": "MediumPurple"
         },
         "mode": "lines",
         "showlegend": false,
         "type": "scatter",
         "x": [
          7.807,
          7.794
         ],
         "y": [
          118.892,
          118.965
         ]
        },
        {
         "line": {
          "color": "MediumPurple"
         },
         "mode": "lines",
         "showlegend": false,
         "type": "scatter",
         "x": [
          7.964,
          7.998
         ],
         "y": [
          115.247,
          115.311
         ]
        },
        {
         "line": {
          "color": "MediumPurple"
         },
         "mode": "lines",
         "showlegend": false,
         "type": "scatter",
         "x": [
          7.896,
          7.88
         ],
         "y": [
          115.49,
          115.42
         ]
        },
        {
         "line": {
          "color": "MediumPurple"
         },
         "mode": "lines",
         "showlegend": false,
         "type": "scatter",
         "x": [
          8.479,
          8.481
         ],
         "y": [
          119.032,
          119.103
         ]
        },
        {
         "line": {
          "color": "MediumPurple"
         },
         "mode": "lines",
         "showlegend": false,
         "type": "scatter",
         "x": [
          8.229,
          8.215
         ],
         "y": [
          121.25,
          121.188
         ]
        },
        {
         "line": {
          "color": "MediumPurple"
         },
         "mode": "lines",
         "showlegend": false,
         "type": "scatter",
         "x": [
          7.419,
          7.419
         ],
         "y": [
          110.339,
          110.276
         ]
        },
        {
         "line": {
          "color": "MediumPurple"
         },
         "mode": "lines",
         "showlegend": false,
         "type": "scatter",
         "x": [
          5.624,
          5.661
         ],
         "y": [
          106.807,
          106.854
         ]
        },
        {
         "line": {
          "color": "MediumPurple"
         },
         "mode": "lines",
         "showlegend": false,
         "type": "scatter",
         "x": [
          7.756,
          7.772
         ],
         "y": [
          113.324,
          113.38
         ]
        },
        {
         "line": {
          "color": "MediumPurple"
         },
         "mode": "lines",
         "showlegend": false,
         "type": "scatter",
         "x": [
          8.039,
          8.031
         ],
         "y": [
          116.609,
          116.665
         ]
        },
        {
         "line": {
          "color": "MediumPurple"
         },
         "mode": "lines",
         "showlegend": false,
         "type": "scatter",
         "x": [
          7.614,
          7.637
         ],
         "y": [
          117.475,
          117.526
         ]
        },
        {
         "line": {
          "color": "red"
         },
         "mode": "lines",
         "showlegend": false,
         "type": "scatter",
         "x": [
          8.122,
          8.161
         ],
         "y": [
          122.507,
          122.547
         ]
        },
        {
         "line": {
          "color": "MediumPurple"
         },
         "mode": "lines",
         "showlegend": false,
         "type": "scatter",
         "x": [
          7.799,
          7.748
         ],
         "y": [
          114.447,
          114.427
         ]
        },
        {
         "line": {
          "color": "MediumPurple"
         },
         "mode": "lines",
         "showlegend": false,
         "type": "scatter",
         "x": [
          8.724,
          8.677
         ],
         "y": [
          126.824,
          126.797
         ]
        },
        {
         "line": {
          "color": "MediumPurple"
         },
         "mode": "lines",
         "showlegend": false,
         "type": "scatter",
         "x": [
          7.177,
          7.228
         ],
         "y": [
          123.177,
          123.193
         ]
        },
        {
         "line": {
          "color": "MediumPurple"
         },
         "mode": "lines",
         "showlegend": false,
         "type": "scatter",
         "x": [
          9.069,
          9.072
         ],
         "y": [
          116.249,
          116.196
         ]
        },
        {
         "line": {
          "color": "MediumPurple"
         },
         "mode": "lines",
         "showlegend": false,
         "type": "scatter",
         "x": [
          8.861,
          8.887
         ],
         "y": [
          118.717,
          118.762
         ]
        },
        {
         "line": {
          "color": "MediumPurple"
         },
         "mode": "lines",
         "showlegend": false,
         "type": "scatter",
         "x": [
          7.099,
          7.074
         ],
         "y": [
          119.764,
          119.719
         ]
        },
        {
         "line": {
          "color": "MediumPurple"
         },
         "mode": "lines",
         "showlegend": false,
         "type": "scatter",
         "x": [
          8.318,
          8.295
         ],
         "y": [
          119.068,
          119.114
         ]
        },
        {
         "line": {
          "color": "red"
         },
         "mode": "lines",
         "showlegend": false,
         "type": "scatter",
         "x": [
          9.217,
          9.225
         ],
         "y": [
          120.59,
          120.542
         ]
        },
        {
         "line": {
          "color": "MediumPurple"
         },
         "mode": "lines",
         "showlegend": false,
         "type": "scatter",
         "x": [
          8.334,
          8.335
         ],
         "y": [
          114.571,
          114.619
         ]
        },
        {
         "line": {
          "color": "MediumPurple"
         },
         "mode": "lines",
         "showlegend": false,
         "type": "scatter",
         "x": [
          8.082,
          8.064
         ],
         "y": [
          115.814,
          115.77
         ]
        },
        {
         "line": {
          "color": "MediumPurple"
         },
         "mode": "lines",
         "showlegend": false,
         "type": "scatter",
         "x": [
          6.931,
          6.912
         ],
         "y": [
          119.075,
          119.117
         ]
        },
        {
         "line": {
          "color": "MediumPurple"
         },
         "mode": "lines",
         "showlegend": false,
         "type": "scatter",
         "x": [
          7.919,
          7.913
         ],
         "y": [
          127.193,
          127.238
         ]
        },
        {
         "line": {
          "color": "red"
         },
         "mode": "lines",
         "showlegend": false,
         "type": "scatter",
         "x": [
          8.227,
          8.223
         ],
         "y": [
          116.732,
          116.776
         ]
        },
        {
         "line": {
          "color": "MediumPurple"
         },
         "mode": "lines",
         "showlegend": false,
         "type": "scatter",
         "x": [
          8.253,
          8.232
         ],
         "y": [
          128.577,
          128.613
         ]
        },
        {
         "line": {
          "color": "MediumPurple"
         },
         "mode": "lines",
         "showlegend": false,
         "type": "scatter",
         "x": [
          8.698,
          8.712
         ],
         "y": [
          123.536,
          123.573
         ]
        },
        {
         "line": {
          "color": "red"
         },
         "mode": "lines",
         "showlegend": false,
         "type": "scatter",
         "x": [
          8.133,
          8.134
         ],
         "y": [
          123.734,
          123.773
         ]
        },
        {
         "line": {
          "color": "MediumPurple"
         },
         "mode": "lines",
         "showlegend": false,
         "type": "scatter",
         "x": [
          8.773,
          8.757
         ],
         "y": [
          123.524,
          123.559
         ]
        },
        {
         "line": {
          "color": "red"
         },
         "mode": "lines",
         "showlegend": false,
         "type": "scatter",
         "x": [
          8.255,
          8.232
         ],
         "y": [
          110.069,
          110.039
         ]
        },
        {
         "line": {
          "color": "red"
         },
         "mode": "lines",
         "showlegend": false,
         "type": "scatter",
         "x": [
          7.705,
          7.704
         ],
         "y": [
          114.368,
          114.405
         ]
        },
        {
         "line": {
          "color": "MediumPurple"
         },
         "mode": "lines",
         "showlegend": false,
         "type": "scatter",
         "x": [
          9.655,
          9.673
         ],
         "y": [
          128.636,
          128.607
         ]
        },
        {
         "line": {
          "color": "MediumPurple"
         },
         "mode": "lines",
         "showlegend": false,
         "type": "scatter",
         "x": [
          8.893,
          8.867
         ],
         "y": [
          124.282,
          124.261
         ]
        },
        {
         "line": {
          "color": "MediumPurple"
         },
         "mode": "lines",
         "showlegend": false,
         "type": "scatter",
         "x": [
          6.897,
          6.875
         ],
         "y": [
          116.472,
          116.496
         ]
        },
        {
         "line": {
          "color": "MediumPurple"
         },
         "mode": "lines",
         "showlegend": false,
         "type": "scatter",
         "x": [
          7.533,
          7.533
         ],
         "y": [
          130.123,
          130.155
         ]
        },
        {
         "line": {
          "color": "MediumPurple"
         },
         "mode": "lines",
         "showlegend": false,
         "type": "scatter",
         "x": [
          8.179,
          8.188
         ],
         "y": [
          119.515,
          119.545
         ]
        },
        {
         "line": {
          "color": "MediumPurple"
         },
         "mode": "lines",
         "showlegend": false,
         "type": "scatter",
         "x": [
          8.191,
          8.198
         ],
         "y": [
          119.142,
          119.113
         ]
        },
        {
         "line": {
          "color": "MediumPurple"
         },
         "mode": "lines",
         "showlegend": false,
         "type": "scatter",
         "x": [
          8.947,
          8.92
         ],
         "y": [
          112.262,
          112.254
         ]
        },
        {
         "line": {
          "color": "MediumPurple"
         },
         "mode": "lines",
         "showlegend": false,
         "type": "scatter",
         "x": [
          8.013,
          8.017
         ],
         "y": [
          114.007,
          113.981
         ]
        },
        {
         "line": {
          "color": "MediumPurple"
         },
         "mode": "lines",
         "showlegend": false,
         "type": "scatter",
         "x": [
          8.735,
          8.723
         ],
         "y": [
          125.408,
          125.431
         ]
        },
        {
         "line": {
          "color": "red"
         },
         "mode": "lines",
         "showlegend": false,
         "type": "scatter",
         "x": [
          8.008,
          7.99
         ],
         "y": [
          120.728,
          120.716
         ]
        },
        {
         "line": {
          "color": "MediumPurple"
         },
         "mode": "lines",
         "showlegend": false,
         "type": "scatter",
         "x": [
          9.229,
          9.224
         ],
         "y": [
          124.83,
          124.85
         ]
        },
        {
         "line": {
          "color": "MediumPurple"
         },
         "mode": "lines",
         "showlegend": false,
         "type": "scatter",
         "x": [
          8.587,
          8.595
         ],
         "y": [
          117.451,
          117.467
         ]
        },
        {
         "line": {
          "color": "MediumPurple"
         },
         "mode": "lines",
         "showlegend": false,
         "type": "scatter",
         "x": [
          8.914,
          8.918
         ],
         "y": [
          126.019,
          126.035
         ]
        },
        {
         "line": {
          "color": "MediumPurple"
         },
         "mode": "lines",
         "showlegend": false,
         "type": "scatter",
         "x": [
          7.424,
          7.427
         ],
         "y": [
          111.77,
          111.783
         ]
        },
        {
         "line": {
          "color": "MediumPurple"
         },
         "mode": "lines",
         "showlegend": false,
         "type": "scatter",
         "x": [
          6.899,
          6.901
         ],
         "y": [
          113.255,
          113.245
         ]
        },
        {
         "line": {
          "color": "MediumPurple"
         },
         "mode": "lines",
         "showlegend": false,
         "type": "scatter",
         "x": [
          8.755,
          8.748
         ],
         "y": [
          119.809,
          119.815
         ]
        },
        {
         "line": {
          "color": "MediumPurple"
         },
         "mode": "lines",
         "showlegend": false,
         "type": "scatter",
         "x": [
          9.201,
          9.203
         ],
         "y": [
          117.391,
          117.399
         ]
        },
        {
         "line": {
          "color": "MediumPurple"
         },
         "mode": "lines",
         "showlegend": false,
         "type": "scatter",
         "x": [
          7.714,
          7.71
         ],
         "y": [
          124.034,
          124.027
         ]
        },
        {
         "line": {
          "color": "MediumPurple"
         },
         "mode": "lines",
         "showlegend": false,
         "type": "scatter",
         "x": [
          9.127,
          9.127
         ],
         "y": [
          127.113,
          127.107
         ]
        },
        {
         "line": {
          "color": "red"
         },
         "mode": "lines",
         "showlegend": false,
         "type": "scatter",
         "x": [
          8.607,
          8.603
         ],
         "y": [
          123.613,
          123.614
         ]
        }
       ],
       "layout": {
        "height": 1000,
        "template": {
         "data": {
          "bar": [
           {
            "error_x": {
             "color": "#2a3f5f"
            },
            "error_y": {
             "color": "#2a3f5f"
            },
            "marker": {
             "line": {
              "color": "#E5ECF6",
              "width": 0.5
             }
            },
            "type": "bar"
           }
          ],
          "barpolar": [
           {
            "marker": {
             "line": {
              "color": "#E5ECF6",
              "width": 0.5
             }
            },
            "type": "barpolar"
           }
          ],
          "carpet": [
           {
            "aaxis": {
             "endlinecolor": "#2a3f5f",
             "gridcolor": "white",
             "linecolor": "white",
             "minorgridcolor": "white",
             "startlinecolor": "#2a3f5f"
            },
            "baxis": {
             "endlinecolor": "#2a3f5f",
             "gridcolor": "white",
             "linecolor": "white",
             "minorgridcolor": "white",
             "startlinecolor": "#2a3f5f"
            },
            "type": "carpet"
           }
          ],
          "choropleth": [
           {
            "colorbar": {
             "outlinewidth": 0,
             "ticks": ""
            },
            "type": "choropleth"
           }
          ],
          "contour": [
           {
            "colorbar": {
             "outlinewidth": 0,
             "ticks": ""
            },
            "colorscale": [
             [
              0,
              "#0d0887"
             ],
             [
              0.1111111111111111,
              "#46039f"
             ],
             [
              0.2222222222222222,
              "#7201a8"
             ],
             [
              0.3333333333333333,
              "#9c179e"
             ],
             [
              0.4444444444444444,
              "#bd3786"
             ],
             [
              0.5555555555555556,
              "#d8576b"
             ],
             [
              0.6666666666666666,
              "#ed7953"
             ],
             [
              0.7777777777777778,
              "#fb9f3a"
             ],
             [
              0.8888888888888888,
              "#fdca26"
             ],
             [
              1,
              "#f0f921"
             ]
            ],
            "type": "contour"
           }
          ],
          "contourcarpet": [
           {
            "colorbar": {
             "outlinewidth": 0,
             "ticks": ""
            },
            "type": "contourcarpet"
           }
          ],
          "heatmap": [
           {
            "colorbar": {
             "outlinewidth": 0,
             "ticks": ""
            },
            "colorscale": [
             [
              0,
              "#0d0887"
             ],
             [
              0.1111111111111111,
              "#46039f"
             ],
             [
              0.2222222222222222,
              "#7201a8"
             ],
             [
              0.3333333333333333,
              "#9c179e"
             ],
             [
              0.4444444444444444,
              "#bd3786"
             ],
             [
              0.5555555555555556,
              "#d8576b"
             ],
             [
              0.6666666666666666,
              "#ed7953"
             ],
             [
              0.7777777777777778,
              "#fb9f3a"
             ],
             [
              0.8888888888888888,
              "#fdca26"
             ],
             [
              1,
              "#f0f921"
             ]
            ],
            "type": "heatmap"
           }
          ],
          "heatmapgl": [
           {
            "colorbar": {
             "outlinewidth": 0,
             "ticks": ""
            },
            "colorscale": [
             [
              0,
              "#0d0887"
             ],
             [
              0.1111111111111111,
              "#46039f"
             ],
             [
              0.2222222222222222,
              "#7201a8"
             ],
             [
              0.3333333333333333,
              "#9c179e"
             ],
             [
              0.4444444444444444,
              "#bd3786"
             ],
             [
              0.5555555555555556,
              "#d8576b"
             ],
             [
              0.6666666666666666,
              "#ed7953"
             ],
             [
              0.7777777777777778,
              "#fb9f3a"
             ],
             [
              0.8888888888888888,
              "#fdca26"
             ],
             [
              1,
              "#f0f921"
             ]
            ],
            "type": "heatmapgl"
           }
          ],
          "histogram": [
           {
            "marker": {
             "colorbar": {
              "outlinewidth": 0,
              "ticks": ""
             }
            },
            "type": "histogram"
           }
          ],
          "histogram2d": [
           {
            "colorbar": {
             "outlinewidth": 0,
             "ticks": ""
            },
            "colorscale": [
             [
              0,
              "#0d0887"
             ],
             [
              0.1111111111111111,
              "#46039f"
             ],
             [
              0.2222222222222222,
              "#7201a8"
             ],
             [
              0.3333333333333333,
              "#9c179e"
             ],
             [
              0.4444444444444444,
              "#bd3786"
             ],
             [
              0.5555555555555556,
              "#d8576b"
             ],
             [
              0.6666666666666666,
              "#ed7953"
             ],
             [
              0.7777777777777778,
              "#fb9f3a"
             ],
             [
              0.8888888888888888,
              "#fdca26"
             ],
             [
              1,
              "#f0f921"
             ]
            ],
            "type": "histogram2d"
           }
          ],
          "histogram2dcontour": [
           {
            "colorbar": {
             "outlinewidth": 0,
             "ticks": ""
            },
            "colorscale": [
             [
              0,
              "#0d0887"
             ],
             [
              0.1111111111111111,
              "#46039f"
             ],
             [
              0.2222222222222222,
              "#7201a8"
             ],
             [
              0.3333333333333333,
              "#9c179e"
             ],
             [
              0.4444444444444444,
              "#bd3786"
             ],
             [
              0.5555555555555556,
              "#d8576b"
             ],
             [
              0.6666666666666666,
              "#ed7953"
             ],
             [
              0.7777777777777778,
              "#fb9f3a"
             ],
             [
              0.8888888888888888,
              "#fdca26"
             ],
             [
              1,
              "#f0f921"
             ]
            ],
            "type": "histogram2dcontour"
           }
          ],
          "mesh3d": [
           {
            "colorbar": {
             "outlinewidth": 0,
             "ticks": ""
            },
            "type": "mesh3d"
           }
          ],
          "parcoords": [
           {
            "line": {
             "colorbar": {
              "outlinewidth": 0,
              "ticks": ""
             }
            },
            "type": "parcoords"
           }
          ],
          "pie": [
           {
            "automargin": true,
            "type": "pie"
           }
          ],
          "scatter": [
           {
            "marker": {
             "colorbar": {
              "outlinewidth": 0,
              "ticks": ""
             }
            },
            "type": "scatter"
           }
          ],
          "scatter3d": [
           {
            "line": {
             "colorbar": {
              "outlinewidth": 0,
              "ticks": ""
             }
            },
            "marker": {
             "colorbar": {
              "outlinewidth": 0,
              "ticks": ""
             }
            },
            "type": "scatter3d"
           }
          ],
          "scattercarpet": [
           {
            "marker": {
             "colorbar": {
              "outlinewidth": 0,
              "ticks": ""
             }
            },
            "type": "scattercarpet"
           }
          ],
          "scattergeo": [
           {
            "marker": {
             "colorbar": {
              "outlinewidth": 0,
              "ticks": ""
             }
            },
            "type": "scattergeo"
           }
          ],
          "scattergl": [
           {
            "marker": {
             "colorbar": {
              "outlinewidth": 0,
              "ticks": ""
             }
            },
            "type": "scattergl"
           }
          ],
          "scattermapbox": [
           {
            "marker": {
             "colorbar": {
              "outlinewidth": 0,
              "ticks": ""
             }
            },
            "type": "scattermapbox"
           }
          ],
          "scatterpolar": [
           {
            "marker": {
             "colorbar": {
              "outlinewidth": 0,
              "ticks": ""
             }
            },
            "type": "scatterpolar"
           }
          ],
          "scatterpolargl": [
           {
            "marker": {
             "colorbar": {
              "outlinewidth": 0,
              "ticks": ""
             }
            },
            "type": "scatterpolargl"
           }
          ],
          "scatterternary": [
           {
            "marker": {
             "colorbar": {
              "outlinewidth": 0,
              "ticks": ""
             }
            },
            "type": "scatterternary"
           }
          ],
          "surface": [
           {
            "colorbar": {
             "outlinewidth": 0,
             "ticks": ""
            },
            "colorscale": [
             [
              0,
              "#0d0887"
             ],
             [
              0.1111111111111111,
              "#46039f"
             ],
             [
              0.2222222222222222,
              "#7201a8"
             ],
             [
              0.3333333333333333,
              "#9c179e"
             ],
             [
              0.4444444444444444,
              "#bd3786"
             ],
             [
              0.5555555555555556,
              "#d8576b"
             ],
             [
              0.6666666666666666,
              "#ed7953"
             ],
             [
              0.7777777777777778,
              "#fb9f3a"
             ],
             [
              0.8888888888888888,
              "#fdca26"
             ],
             [
              1,
              "#f0f921"
             ]
            ],
            "type": "surface"
           }
          ],
          "table": [
           {
            "cells": {
             "fill": {
              "color": "#EBF0F8"
             },
             "line": {
              "color": "white"
             }
            },
            "header": {
             "fill": {
              "color": "#C8D4E3"
             },
             "line": {
              "color": "white"
             }
            },
            "type": "table"
           }
          ]
         },
         "layout": {
          "annotationdefaults": {
           "arrowcolor": "#2a3f5f",
           "arrowhead": 0,
           "arrowwidth": 1
          },
          "coloraxis": {
           "colorbar": {
            "outlinewidth": 0,
            "ticks": ""
           }
          },
          "colorscale": {
           "diverging": [
            [
             0,
             "#8e0152"
            ],
            [
             0.1,
             "#c51b7d"
            ],
            [
             0.2,
             "#de77ae"
            ],
            [
             0.3,
             "#f1b6da"
            ],
            [
             0.4,
             "#fde0ef"
            ],
            [
             0.5,
             "#f7f7f7"
            ],
            [
             0.6,
             "#e6f5d0"
            ],
            [
             0.7,
             "#b8e186"
            ],
            [
             0.8,
             "#7fbc41"
            ],
            [
             0.9,
             "#4d9221"
            ],
            [
             1,
             "#276419"
            ]
           ],
           "sequential": [
            [
             0,
             "#0d0887"
            ],
            [
             0.1111111111111111,
             "#46039f"
            ],
            [
             0.2222222222222222,
             "#7201a8"
            ],
            [
             0.3333333333333333,
             "#9c179e"
            ],
            [
             0.4444444444444444,
             "#bd3786"
            ],
            [
             0.5555555555555556,
             "#d8576b"
            ],
            [
             0.6666666666666666,
             "#ed7953"
            ],
            [
             0.7777777777777778,
             "#fb9f3a"
            ],
            [
             0.8888888888888888,
             "#fdca26"
            ],
            [
             1,
             "#f0f921"
            ]
           ],
           "sequentialminus": [
            [
             0,
             "#0d0887"
            ],
            [
             0.1111111111111111,
             "#46039f"
            ],
            [
             0.2222222222222222,
             "#7201a8"
            ],
            [
             0.3333333333333333,
             "#9c179e"
            ],
            [
             0.4444444444444444,
             "#bd3786"
            ],
            [
             0.5555555555555556,
             "#d8576b"
            ],
            [
             0.6666666666666666,
             "#ed7953"
            ],
            [
             0.7777777777777778,
             "#fb9f3a"
            ],
            [
             0.8888888888888888,
             "#fdca26"
            ],
            [
             1,
             "#f0f921"
            ]
           ]
          },
          "colorway": [
           "#636efa",
           "#EF553B",
           "#00cc96",
           "#ab63fa",
           "#FFA15A",
           "#19d3f3",
           "#FF6692",
           "#B6E880",
           "#FF97FF",
           "#FECB52"
          ],
          "font": {
           "color": "#2a3f5f"
          },
          "geo": {
           "bgcolor": "white",
           "lakecolor": "white",
           "landcolor": "#E5ECF6",
           "showlakes": true,
           "showland": true,
           "subunitcolor": "white"
          },
          "hoverlabel": {
           "align": "left"
          },
          "hovermode": "closest",
          "mapbox": {
           "style": "light"
          },
          "paper_bgcolor": "white",
          "plot_bgcolor": "#E5ECF6",
          "polar": {
           "angularaxis": {
            "gridcolor": "white",
            "linecolor": "white",
            "ticks": ""
           },
           "bgcolor": "#E5ECF6",
           "radialaxis": {
            "gridcolor": "white",
            "linecolor": "white",
            "ticks": ""
           }
          },
          "scene": {
           "xaxis": {
            "backgroundcolor": "#E5ECF6",
            "gridcolor": "white",
            "gridwidth": 2,
            "linecolor": "white",
            "showbackground": true,
            "ticks": "",
            "zerolinecolor": "white"
           },
           "yaxis": {
            "backgroundcolor": "#E5ECF6",
            "gridcolor": "white",
            "gridwidth": 2,
            "linecolor": "white",
            "showbackground": true,
            "ticks": "",
            "zerolinecolor": "white"
           },
           "zaxis": {
            "backgroundcolor": "#E5ECF6",
            "gridcolor": "white",
            "gridwidth": 2,
            "linecolor": "white",
            "showbackground": true,
            "ticks": "",
            "zerolinecolor": "white"
           }
          },
          "shapedefaults": {
           "line": {
            "color": "#2a3f5f"
           }
          },
          "ternary": {
           "aaxis": {
            "gridcolor": "white",
            "linecolor": "white",
            "ticks": ""
           },
           "baxis": {
            "gridcolor": "white",
            "linecolor": "white",
            "ticks": ""
           },
           "bgcolor": "#E5ECF6",
           "caxis": {
            "gridcolor": "white",
            "linecolor": "white",
            "ticks": ""
           }
          },
          "title": {
           "x": 0.05
          },
          "xaxis": {
           "automargin": true,
           "gridcolor": "white",
           "linecolor": "white",
           "ticks": "",
           "title": {
            "standoff": 15
           },
           "zerolinecolor": "white",
           "zerolinewidth": 2
          },
          "yaxis": {
           "automargin": true,
           "gridcolor": "white",
           "linecolor": "white",
           "ticks": "",
           "title": {
            "standoff": 15
           },
           "zerolinecolor": "white",
           "zerolinewidth": 2
          }
         }
        },
        "width": 1300,
        "xaxis": {
         "autorange": "reversed"
        },
        "yaxis": {
         "autorange": "reversed"
        }
       }
      }
     },
     "metadata": {}
    },
    {
     "output_type": "stream",
     "name": "stdout",
     "text": "[3.4787241914242157, 3.196656534568581, 2.8793063400756784, 2.855529723186229, 2.5912004939795774, 2.218486195584736, 1.956847720186727, 1.6605360580246364, 1.276954580241599, 1.2154250285394075, 1.089222199553423, 1.0479160271701167, 0.9247453703587767, 0.9108485055155943, 0.8226597109376369, 0.8187826329374618, 0.7841492204931416, 0.7779203044014191, 0.7369124778425151, 0.7366423827068274, 0.670716780765178, 0.6365571459028642, 0.5669611979668521, 0.43936431352580185, 0.4350919443060296, 0.4269578433522511, 0.4250329398999627, 0.4019266102163431, 0.36388597115029764, 0.32573762447712107, 0.311025722408928, 0.3039078807796848, 0.2972137278121509, 0.29347061181658063, 0.28873517277947885, 0.2879340202199075, 0.2847630594020191, 0.2761340254296806, 0.2564936646391003, 0.2542833065696513, 0.24901807163337372, 0.24633716731341976, 0.24278591392418555, 0.21731313812100578, 0.21270872102478838, 0.20961870145576267, 0.20947553556441614, 0.208655218003291, 0.20308865059378634, 0.19782062582045257, 0.1967028215354323, 0.18976301009416952, 0.17755280904565368, 0.17341568556506076, 0.17302600960549433, 0.16858232410308427, 0.16854969593564653, 0.16819334112859674, 0.16105899540230412, 0.15745793088948826, 0.15383432646843626, 0.15076471735787605, 0.14541320435228974, 0.14208800090086027, 0.13904315876734613, 0.1350333292191137, 0.1349703671181189, 0.12814054783713086, 0.12272326592785907, 0.12165525060596764, 0.12041594578792754, 0.11800423721205446, 0.1172092146548208, 0.11515641536622624, 0.11360017605619649, 0.11299999999999955, 0.10900000000000887, 0.10825894882179443, 0.1039999999999992, 0.10332473082471168, 0.10317460927960906, 0.09808159868191282, 0.09563472172804274, 0.09362157870919195, 0.09234717104491531, 0.09000000000000236, 0.08949301648732921, 0.08856635930193199, 0.08814193099767514, 0.08697700845627013, 0.08502352615600065, 0.08440379138403478, 0.0840951841665156, 0.08139410298049664, 0.07632168761236215, 0.07580237463298681, 0.07516648189186531, 0.07467261881039002, 0.07414849964767403, 0.07247068372797999, 0.07180529228405831, 0.07102816342831703, 0.06356099432828034, 0.06300000000000239, 0.05981638571495035, 0.05824087911424164, 0.056568542494935155, 0.05594640292279909, 0.055865910893847785, 0.05478138369920805, 0.054203320931471635, 0.05345091205956856, 0.05308483775994517, 0.05197114584074651, 0.051478150704936665, 0.05142956348250082, 0.04866210024238741, 0.04801041553663306, 0.04753945729601627, 0.04609772228646594, 0.045398237851266274, 0.04418144406874595, 0.041677331968350995, 0.03956008088969718, 0.03901281840626383, 0.03848376280978462, 0.03780211634287339, 0.03701351104664964, 0.034132096331749295, 0.03342154993413715, 0.03255764119220025, 0.03200000000001069, 0.031320919526732834, 0.029832867780348982, 0.028160255680655465, 0.026305892875942084, 0.025942243542141655, 0.021633307652783276, 0.0206155281280842, 0.017888543820003495, 0.016492422502461933, 0.013341664064131255, 0.010198039027176609, 0.009219544457294136, 0.008246211251230751, 0.008062257748303115, 0.006000000000000227, 0.0041231056256183915]\n['G208', 'I180', 'T215', 'I220', 'K241', 'S223', 'H168', 'D175', 'G178', 'V235', 'T239', 'F237', 'A182', 'W109', 'L212', 'T204', 'Y240', 'A216', 'Y242', 'G209', 'H218', 'G155', 'E199', 'N211', 'A184', 'Y121', 'D254', 'S251', 'G227', 'D131', 'G193', 'S229', 'H206', 'H172', 'F197', 'H196', 'A195', 'A173', 'T247', 'A137', 'I245', 'V144', 'M236', 'G179', 'W141', 'L250', 'V243', 'R256', 'S207', 'T210', 'H183', 'D231', 'G257', 'D253', 'F163', 'T122', 'G221', 'R165', 'N246', 'G225', 'L181', 'E201', 'R249', 'A133', 'D194', 'H112', 'E219', 'Y113', 'L214', 'K177', 'G192', 'Y132', 'Q139', 'R135', 'D124', 'V108', 'I191', 'D200', 'N153', 'Y262', 'H228', 'K111', 'I255', 'A167', 'G186', 'V217', 'W203', 'A164', 'F202', 'G166', 'D198', 'F174', 'Q259', 'D158', 'K151', 'G176', 'S142', 'D129', 'D244', 'N143', 'S260', 'K136', 'L226', 'T145', 'G188', 'N120', 'S150', 'V140', 'K148', 'L224', 'V162', 'F248', 'E128', 'N126', 'H222', 'R117', 'F213', 'S189', 'G263', 'L261', 'A157', 'K233', 'I114', 'I152', 'A234', 'A252', 'T205', 'F138', 'N119', 'I159', 'L147', 'L160', 'F149', 'M156', 'G190', 'I134', 'V161', 'F185', 'R110', 'Y116', 'R127', 'T154', 'M125', 'S230', 'T115', 'V130', 'I118', 'I258']\n[208, 180, 215, 220, 241, 223, 168, 175, 178, 235, 239, 237, 182, 109, 212, 204, 240, 216, 242, 209, 218, 155, 199, 211, 184, 121, 254, 251, 227, 131, 193, 229, 206, 172, 197, 196, 195, 173, 247, 137, 245, 144, 236, 179, 141, 250, 243, 256, 207, 210, 183, 231, 257, 253, 163, 122, 221, 165, 246, 225, 181, 201, 249, 133, 194, 112, 219, 113, 214, 177, 192, 132, 139, 135, 124, 108, 191, 200, 153, 262, 228, 111, 255, 167, 186, 217, 203, 164, 202, 166, 198, 174, 259, 158, 151, 176, 142, 129, 244, 143, 260, 136, 226, 145, 188, 120, 150, 140, 148, 224, 162, 248, 128, 126, 222, 117, 213, 189, 263, 261, 157, 233, 114, 152, 234, 252, 205, 138, 119, 159, 147, 160, 149, 156, 190, 134, 161, 185, 110, 116, 127, 154, 125, 230, 115, 130, 118, 258]\n"
    },
    {
     "output_type": "display_data",
     "data": {
      "application/vnd.plotly.v1+json": {
       "config": {
        "plotlyServerURL": "https://plot.ly"
       },
       "data": [
        {
         "type": "histogram",
         "x": [
          3.4787241914242157,
          3.196656534568581,
          2.8793063400756784,
          2.855529723186229,
          2.5912004939795774,
          2.218486195584736,
          1.956847720186727,
          1.6605360580246364,
          1.276954580241599,
          1.2154250285394075,
          1.089222199553423,
          1.0479160271701167,
          0.9247453703587767,
          0.9108485055155943,
          0.8226597109376369,
          0.8187826329374618,
          0.7841492204931416,
          0.7779203044014191,
          0.7369124778425151,
          0.7366423827068274,
          0.670716780765178,
          0.6365571459028642,
          0.5669611979668521,
          0.43936431352580185,
          0.4350919443060296,
          0.4269578433522511,
          0.4250329398999627,
          0.4019266102163431,
          0.36388597115029764,
          0.32573762447712107,
          0.311025722408928,
          0.3039078807796848,
          0.2972137278121509,
          0.29347061181658063,
          0.28873517277947885,
          0.2879340202199075,
          0.2847630594020191,
          0.2761340254296806,
          0.2564936646391003,
          0.2542833065696513,
          0.24901807163337372,
          0.24633716731341976,
          0.24278591392418555,
          0.21731313812100578,
          0.21270872102478838,
          0.20961870145576267,
          0.20947553556441614,
          0.208655218003291,
          0.20308865059378634,
          0.19782062582045257,
          0.1967028215354323,
          0.18976301009416952,
          0.17755280904565368,
          0.17341568556506076,
          0.17302600960549433,
          0.16858232410308427,
          0.16854969593564653,
          0.16819334112859674,
          0.16105899540230412,
          0.15745793088948826,
          0.15383432646843626,
          0.15076471735787605,
          0.14541320435228974,
          0.14208800090086027,
          0.13904315876734613,
          0.1350333292191137,
          0.1349703671181189,
          0.12814054783713086,
          0.12272326592785907,
          0.12165525060596764,
          0.12041594578792754,
          0.11800423721205446,
          0.1172092146548208,
          0.11515641536622624,
          0.11360017605619649,
          0.11299999999999955,
          0.10900000000000887,
          0.10825894882179443,
          0.1039999999999992,
          0.10332473082471168,
          0.10317460927960906,
          0.09808159868191282,
          0.09563472172804274,
          0.09362157870919195,
          0.09234717104491531,
          0.09000000000000236,
          0.08949301648732921,
          0.08856635930193199,
          0.08814193099767514,
          0.08697700845627013,
          0.08502352615600065,
          0.08440379138403478,
          0.0840951841665156,
          0.08139410298049664,
          0.07632168761236215,
          0.07580237463298681,
          0.07516648189186531,
          0.07467261881039002,
          0.07414849964767403,
          0.07247068372797999,
          0.07180529228405831,
          0.07102816342831703,
          0.06356099432828034,
          0.06300000000000239,
          0.05981638571495035,
          0.05824087911424164,
          0.056568542494935155,
          0.05594640292279909,
          0.055865910893847785,
          0.05478138369920805,
          0.054203320931471635,
          0.05345091205956856,
          0.05308483775994517,
          0.05197114584074651,
          0.051478150704936665,
          0.05142956348250082,
          0.04866210024238741,
          0.04801041553663306,
          0.04753945729601627,
          0.04609772228646594,
          0.045398237851266274,
          0.04418144406874595,
          0.041677331968350995,
          0.03956008088969718,
          0.03901281840626383,
          0.03848376280978462,
          0.03780211634287339,
          0.03701351104664964,
          0.034132096331749295,
          0.03342154993413715,
          0.03255764119220025,
          0.03200000000001069,
          0.031320919526732834,
          0.029832867780348982,
          0.028160255680655465,
          0.026305892875942084,
          0.025942243542141655,
          0.021633307652783276,
          0.0206155281280842,
          0.017888543820003495,
          0.016492422502461933,
          0.013341664064131255,
          0.010198039027176609,
          0.009219544457294136,
          0.008246211251230751,
          0.008062257748303115,
          0.006000000000000227,
          0.0041231056256183915
         ]
        }
       ],
       "layout": {
        "template": {
         "data": {
          "bar": [
           {
            "error_x": {
             "color": "#2a3f5f"
            },
            "error_y": {
             "color": "#2a3f5f"
            },
            "marker": {
             "line": {
              "color": "#E5ECF6",
              "width": 0.5
             }
            },
            "type": "bar"
           }
          ],
          "barpolar": [
           {
            "marker": {
             "line": {
              "color": "#E5ECF6",
              "width": 0.5
             }
            },
            "type": "barpolar"
           }
          ],
          "carpet": [
           {
            "aaxis": {
             "endlinecolor": "#2a3f5f",
             "gridcolor": "white",
             "linecolor": "white",
             "minorgridcolor": "white",
             "startlinecolor": "#2a3f5f"
            },
            "baxis": {
             "endlinecolor": "#2a3f5f",
             "gridcolor": "white",
             "linecolor": "white",
             "minorgridcolor": "white",
             "startlinecolor": "#2a3f5f"
            },
            "type": "carpet"
           }
          ],
          "choropleth": [
           {
            "colorbar": {
             "outlinewidth": 0,
             "ticks": ""
            },
            "type": "choropleth"
           }
          ],
          "contour": [
           {
            "colorbar": {
             "outlinewidth": 0,
             "ticks": ""
            },
            "colorscale": [
             [
              0,
              "#0d0887"
             ],
             [
              0.1111111111111111,
              "#46039f"
             ],
             [
              0.2222222222222222,
              "#7201a8"
             ],
             [
              0.3333333333333333,
              "#9c179e"
             ],
             [
              0.4444444444444444,
              "#bd3786"
             ],
             [
              0.5555555555555556,
              "#d8576b"
             ],
             [
              0.6666666666666666,
              "#ed7953"
             ],
             [
              0.7777777777777778,
              "#fb9f3a"
             ],
             [
              0.8888888888888888,
              "#fdca26"
             ],
             [
              1,
              "#f0f921"
             ]
            ],
            "type": "contour"
           }
          ],
          "contourcarpet": [
           {
            "colorbar": {
             "outlinewidth": 0,
             "ticks": ""
            },
            "type": "contourcarpet"
           }
          ],
          "heatmap": [
           {
            "colorbar": {
             "outlinewidth": 0,
             "ticks": ""
            },
            "colorscale": [
             [
              0,
              "#0d0887"
             ],
             [
              0.1111111111111111,
              "#46039f"
             ],
             [
              0.2222222222222222,
              "#7201a8"
             ],
             [
              0.3333333333333333,
              "#9c179e"
             ],
             [
              0.4444444444444444,
              "#bd3786"
             ],
             [
              0.5555555555555556,
              "#d8576b"
             ],
             [
              0.6666666666666666,
              "#ed7953"
             ],
             [
              0.7777777777777778,
              "#fb9f3a"
             ],
             [
              0.8888888888888888,
              "#fdca26"
             ],
             [
              1,
              "#f0f921"
             ]
            ],
            "type": "heatmap"
           }
          ],
          "heatmapgl": [
           {
            "colorbar": {
             "outlinewidth": 0,
             "ticks": ""
            },
            "colorscale": [
             [
              0,
              "#0d0887"
             ],
             [
              0.1111111111111111,
              "#46039f"
             ],
             [
              0.2222222222222222,
              "#7201a8"
             ],
             [
              0.3333333333333333,
              "#9c179e"
             ],
             [
              0.4444444444444444,
              "#bd3786"
             ],
             [
              0.5555555555555556,
              "#d8576b"
             ],
             [
              0.6666666666666666,
              "#ed7953"
             ],
             [
              0.7777777777777778,
              "#fb9f3a"
             ],
             [
              0.8888888888888888,
              "#fdca26"
             ],
             [
              1,
              "#f0f921"
             ]
            ],
            "type": "heatmapgl"
           }
          ],
          "histogram": [
           {
            "marker": {
             "colorbar": {
              "outlinewidth": 0,
              "ticks": ""
             }
            },
            "type": "histogram"
           }
          ],
          "histogram2d": [
           {
            "colorbar": {
             "outlinewidth": 0,
             "ticks": ""
            },
            "colorscale": [
             [
              0,
              "#0d0887"
             ],
             [
              0.1111111111111111,
              "#46039f"
             ],
             [
              0.2222222222222222,
              "#7201a8"
             ],
             [
              0.3333333333333333,
              "#9c179e"
             ],
             [
              0.4444444444444444,
              "#bd3786"
             ],
             [
              0.5555555555555556,
              "#d8576b"
             ],
             [
              0.6666666666666666,
              "#ed7953"
             ],
             [
              0.7777777777777778,
              "#fb9f3a"
             ],
             [
              0.8888888888888888,
              "#fdca26"
             ],
             [
              1,
              "#f0f921"
             ]
            ],
            "type": "histogram2d"
           }
          ],
          "histogram2dcontour": [
           {
            "colorbar": {
             "outlinewidth": 0,
             "ticks": ""
            },
            "colorscale": [
             [
              0,
              "#0d0887"
             ],
             [
              0.1111111111111111,
              "#46039f"
             ],
             [
              0.2222222222222222,
              "#7201a8"
             ],
             [
              0.3333333333333333,
              "#9c179e"
             ],
             [
              0.4444444444444444,
              "#bd3786"
             ],
             [
              0.5555555555555556,
              "#d8576b"
             ],
             [
              0.6666666666666666,
              "#ed7953"
             ],
             [
              0.7777777777777778,
              "#fb9f3a"
             ],
             [
              0.8888888888888888,
              "#fdca26"
             ],
             [
              1,
              "#f0f921"
             ]
            ],
            "type": "histogram2dcontour"
           }
          ],
          "mesh3d": [
           {
            "colorbar": {
             "outlinewidth": 0,
             "ticks": ""
            },
            "type": "mesh3d"
           }
          ],
          "parcoords": [
           {
            "line": {
             "colorbar": {
              "outlinewidth": 0,
              "ticks": ""
             }
            },
            "type": "parcoords"
           }
          ],
          "pie": [
           {
            "automargin": true,
            "type": "pie"
           }
          ],
          "scatter": [
           {
            "marker": {
             "colorbar": {
              "outlinewidth": 0,
              "ticks": ""
             }
            },
            "type": "scatter"
           }
          ],
          "scatter3d": [
           {
            "line": {
             "colorbar": {
              "outlinewidth": 0,
              "ticks": ""
             }
            },
            "marker": {
             "colorbar": {
              "outlinewidth": 0,
              "ticks": ""
             }
            },
            "type": "scatter3d"
           }
          ],
          "scattercarpet": [
           {
            "marker": {
             "colorbar": {
              "outlinewidth": 0,
              "ticks": ""
             }
            },
            "type": "scattercarpet"
           }
          ],
          "scattergeo": [
           {
            "marker": {
             "colorbar": {
              "outlinewidth": 0,
              "ticks": ""
             }
            },
            "type": "scattergeo"
           }
          ],
          "scattergl": [
           {
            "marker": {
             "colorbar": {
              "outlinewidth": 0,
              "ticks": ""
             }
            },
            "type": "scattergl"
           }
          ],
          "scattermapbox": [
           {
            "marker": {
             "colorbar": {
              "outlinewidth": 0,
              "ticks": ""
             }
            },
            "type": "scattermapbox"
           }
          ],
          "scatterpolar": [
           {
            "marker": {
             "colorbar": {
              "outlinewidth": 0,
              "ticks": ""
             }
            },
            "type": "scatterpolar"
           }
          ],
          "scatterpolargl": [
           {
            "marker": {
             "colorbar": {
              "outlinewidth": 0,
              "ticks": ""
             }
            },
            "type": "scatterpolargl"
           }
          ],
          "scatterternary": [
           {
            "marker": {
             "colorbar": {
              "outlinewidth": 0,
              "ticks": ""
             }
            },
            "type": "scatterternary"
           }
          ],
          "surface": [
           {
            "colorbar": {
             "outlinewidth": 0,
             "ticks": ""
            },
            "colorscale": [
             [
              0,
              "#0d0887"
             ],
             [
              0.1111111111111111,
              "#46039f"
             ],
             [
              0.2222222222222222,
              "#7201a8"
             ],
             [
              0.3333333333333333,
              "#9c179e"
             ],
             [
              0.4444444444444444,
              "#bd3786"
             ],
             [
              0.5555555555555556,
              "#d8576b"
             ],
             [
              0.6666666666666666,
              "#ed7953"
             ],
             [
              0.7777777777777778,
              "#fb9f3a"
             ],
             [
              0.8888888888888888,
              "#fdca26"
             ],
             [
              1,
              "#f0f921"
             ]
            ],
            "type": "surface"
           }
          ],
          "table": [
           {
            "cells": {
             "fill": {
              "color": "#EBF0F8"
             },
             "line": {
              "color": "white"
             }
            },
            "header": {
             "fill": {
              "color": "#C8D4E3"
             },
             "line": {
              "color": "white"
             }
            },
            "type": "table"
           }
          ]
         },
         "layout": {
          "annotationdefaults": {
           "arrowcolor": "#2a3f5f",
           "arrowhead": 0,
           "arrowwidth": 1
          },
          "coloraxis": {
           "colorbar": {
            "outlinewidth": 0,
            "ticks": ""
           }
          },
          "colorscale": {
           "diverging": [
            [
             0,
             "#8e0152"
            ],
            [
             0.1,
             "#c51b7d"
            ],
            [
             0.2,
             "#de77ae"
            ],
            [
             0.3,
             "#f1b6da"
            ],
            [
             0.4,
             "#fde0ef"
            ],
            [
             0.5,
             "#f7f7f7"
            ],
            [
             0.6,
             "#e6f5d0"
            ],
            [
             0.7,
             "#b8e186"
            ],
            [
             0.8,
             "#7fbc41"
            ],
            [
             0.9,
             "#4d9221"
            ],
            [
             1,
             "#276419"
            ]
           ],
           "sequential": [
            [
             0,
             "#0d0887"
            ],
            [
             0.1111111111111111,
             "#46039f"
            ],
            [
             0.2222222222222222,
             "#7201a8"
            ],
            [
             0.3333333333333333,
             "#9c179e"
            ],
            [
             0.4444444444444444,
             "#bd3786"
            ],
            [
             0.5555555555555556,
             "#d8576b"
            ],
            [
             0.6666666666666666,
             "#ed7953"
            ],
            [
             0.7777777777777778,
             "#fb9f3a"
            ],
            [
             0.8888888888888888,
             "#fdca26"
            ],
            [
             1,
             "#f0f921"
            ]
           ],
           "sequentialminus": [
            [
             0,
             "#0d0887"
            ],
            [
             0.1111111111111111,
             "#46039f"
            ],
            [
             0.2222222222222222,
             "#7201a8"
            ],
            [
             0.3333333333333333,
             "#9c179e"
            ],
            [
             0.4444444444444444,
             "#bd3786"
            ],
            [
             0.5555555555555556,
             "#d8576b"
            ],
            [
             0.6666666666666666,
             "#ed7953"
            ],
            [
             0.7777777777777778,
             "#fb9f3a"
            ],
            [
             0.8888888888888888,
             "#fdca26"
            ],
            [
             1,
             "#f0f921"
            ]
           ]
          },
          "colorway": [
           "#636efa",
           "#EF553B",
           "#00cc96",
           "#ab63fa",
           "#FFA15A",
           "#19d3f3",
           "#FF6692",
           "#B6E880",
           "#FF97FF",
           "#FECB52"
          ],
          "font": {
           "color": "#2a3f5f"
          },
          "geo": {
           "bgcolor": "white",
           "lakecolor": "white",
           "landcolor": "#E5ECF6",
           "showlakes": true,
           "showland": true,
           "subunitcolor": "white"
          },
          "hoverlabel": {
           "align": "left"
          },
          "hovermode": "closest",
          "mapbox": {
           "style": "light"
          },
          "paper_bgcolor": "white",
          "plot_bgcolor": "#E5ECF6",
          "polar": {
           "angularaxis": {
            "gridcolor": "white",
            "linecolor": "white",
            "ticks": ""
           },
           "bgcolor": "#E5ECF6",
           "radialaxis": {
            "gridcolor": "white",
            "linecolor": "white",
            "ticks": ""
           }
          },
          "scene": {
           "xaxis": {
            "backgroundcolor": "#E5ECF6",
            "gridcolor": "white",
            "gridwidth": 2,
            "linecolor": "white",
            "showbackground": true,
            "ticks": "",
            "zerolinecolor": "white"
           },
           "yaxis": {
            "backgroundcolor": "#E5ECF6",
            "gridcolor": "white",
            "gridwidth": 2,
            "linecolor": "white",
            "showbackground": true,
            "ticks": "",
            "zerolinecolor": "white"
           },
           "zaxis": {
            "backgroundcolor": "#E5ECF6",
            "gridcolor": "white",
            "gridwidth": 2,
            "linecolor": "white",
            "showbackground": true,
            "ticks": "",
            "zerolinecolor": "white"
           }
          },
          "shapedefaults": {
           "line": {
            "color": "#2a3f5f"
           }
          },
          "ternary": {
           "aaxis": {
            "gridcolor": "white",
            "linecolor": "white",
            "ticks": ""
           },
           "baxis": {
            "gridcolor": "white",
            "linecolor": "white",
            "ticks": ""
           },
           "bgcolor": "#E5ECF6",
           "caxis": {
            "gridcolor": "white",
            "linecolor": "white",
            "ticks": ""
           }
          },
          "title": {
           "x": 0.05
          },
          "xaxis": {
           "automargin": true,
           "gridcolor": "white",
           "linecolor": "white",
           "ticks": "",
           "title": {
            "standoff": 15
           },
           "zerolinecolor": "white",
           "zerolinewidth": 2
          },
          "yaxis": {
           "automargin": true,
           "gridcolor": "white",
           "linecolor": "white",
           "ticks": "",
           "title": {
            "standoff": 15
           },
           "zerolinecolor": "white",
           "zerolinewidth": 2
          }
         }
        }
       }
      }
     },
     "metadata": {}
    },
    {
     "output_type": "stream",
     "name": "stdout",
     "text": "DistanceC  DistanceG  Index  Name\n75    0.113000   0.113000    108  V108\n13    0.910849   0.426469    109  W109\n138   0.020616   0.020616    110  R110\n81    0.098082   0.098082    111  K111\n65    0.135033   0.135033    112  H112\n..         ...        ...    ...   ...\n92    0.084095   0.104010    259  Q259\n100   0.071805   0.071805    260  S260\n119   0.046098   0.046098    261  L261\n79    0.103325   0.094048    262  Y262\n118   0.047539   0.047539    263  G263\n\n[148 rows x 4 columns]\n"
    },
    {
     "output_type": "display_data",
     "data": {
      "application/vnd.plotly.v1+json": {
       "config": {
        "plotlyServerURL": "https://plot.ly"
       },
       "data": [
        {
         "alignmentgroup": "True",
         "hovertemplate": "Name=%{x}<br>DistanceC=%{y}<extra></extra>",
         "legendgroup": "",
         "marker": {
          "color": "#636efa"
         },
         "name": "",
         "offsetgroup": "",
         "orientation": "v",
         "showlegend": false,
         "textposition": "auto",
         "type": "bar",
         "x": [
          "V108",
          "W109",
          "R110",
          "K111",
          "H112",
          "Y113",
          "I114",
          "T115",
          "Y116",
          "R117",
          "I118",
          "N119",
          "N120",
          "Y121",
          "T122",
          "D124",
          "M125",
          "N126",
          "R127",
          "E128",
          "D129",
          "V130",
          "D131",
          "Y132",
          "A133",
          "I134",
          "R135",
          "K136",
          "A137",
          "F138",
          "Q139",
          "V140",
          "W141",
          "S142",
          "N143",
          "V144",
          "T145",
          "L147",
          "K148",
          "F149",
          "S150",
          "K151",
          "I152",
          "N153",
          "T154",
          "G155",
          "M156",
          "A157",
          "D158",
          "I159",
          "L160",
          "V161",
          "V162",
          "F163",
          "A164",
          "R165",
          "G166",
          "A167",
          "H168",
          "H172",
          "A173",
          "F174",
          "D175",
          "G176",
          "K177",
          "G178",
          "G179",
          "I180",
          "L181",
          "A182",
          "H183",
          "A184",
          "F185",
          "G186",
          "G188",
          "S189",
          "G190",
          "I191",
          "G192",
          "G193",
          "D194",
          "A195",
          "H196",
          "F197",
          "D198",
          "E199",
          "D200",
          "E201",
          "F202",
          "W203",
          "T204",
          "T205",
          "H206",
          "S207",
          "G208",
          "G209",
          "T210",
          "N211",
          "L212",
          "F213",
          "L214",
          "T215",
          "A216",
          "V217",
          "H218",
          "E219",
          "I220",
          "G221",
          "H222",
          "S223",
          "L224",
          "G225",
          "L226",
          "G227",
          "H228",
          "S229",
          "S230",
          "D231",
          "K233",
          "A234",
          "V235",
          "M236",
          "F237",
          "T239",
          "Y240",
          "K241",
          "Y242",
          "V243",
          "D244",
          "I245",
          "N246",
          "T247",
          "F248",
          "R249",
          "L250",
          "S251",
          "A252",
          "D253",
          "D254",
          "I255",
          "R256",
          "G257",
          "I258",
          "Q259",
          "S260",
          "L261",
          "Y262",
          "G263"
         ],
         "xaxis": "x",
         "y": [
          0.11299999999999955,
          0.9108485055155943,
          0.0206155281280842,
          0.09808159868191282,
          0.1350333292191137,
          0.12814054783713086,
          0.041677331968350995,
          0.008246211251230751,
          0.017888543820003495,
          0.05142956348250082,
          0.006000000000000227,
          0.034132096331749295,
          0.05824087911424164,
          0.4269578433522511,
          0.16858232410308427,
          0.11360017605619649,
          0.010198039027176609,
          0.05197114584074651,
          0.016492422502461933,
          0.05308483775994517,
          0.07467261881039002,
          0.008062257748303115,
          0.32573762447712107,
          0.11800423721205446,
          0.14208800090086027,
          0.026305892875942084,
          0.11515641536622624,
          0.07102816342831703,
          0.2542833065696513,
          0.03701351104664964,
          0.1172092146548208,
          0.05594640292279909,
          0.21270872102478838,
          0.07516648189186531,
          0.07247068372797999,
          0.24633716731341976,
          0.06300000000000239,
          0.03255764119220025,
          0.055865910893847785,
          0.031320919526732834,
          0.056568542494935155,
          0.07632168761236215,
          0.03956008088969718,
          0.1039999999999992,
          0.013341664064131255,
          0.6365571459028642,
          0.029832867780348982,
          0.045398237851266274,
          0.08139410298049664,
          0.03342154993413715,
          0.03200000000001069,
          0.025942243542141655,
          0.054203320931471635,
          0.17302600960549433,
          0.08856635930193199,
          0.16819334112859674,
          0.08697700845627013,
          0.09362157870919195,
          1.956847720186727,
          0.29347061181658063,
          0.2761340254296806,
          0.08440379138403478,
          1.6605360580246364,
          0.07580237463298681,
          0.12165525060596764,
          1.276954580241599,
          0.21731313812100578,
          3.196656534568581,
          0.15383432646843626,
          0.9247453703587767,
          0.1967028215354323,
          0.4350919443060296,
          0.021633307652783276,
          0.09234717104491531,
          0.05981638571495035,
          0.04801041553663306,
          0.028160255680655465,
          0.10900000000000887,
          0.12041594578792754,
          0.311025722408928,
          0.13904315876734613,
          0.2847630594020191,
          0.2879340202199075,
          0.28873517277947885,
          0.08502352615600065,
          0.5669611979668521,
          0.10825894882179443,
          0.15076471735787605,
          0.08814193099767514,
          0.08949301648732921,
          0.8187826329374618,
          0.03780211634287339,
          0.2972137278121509,
          0.20308865059378634,
          3.4787241914242157,
          0.7366423827068274,
          0.19782062582045257,
          0.43936431352580185,
          0.8226597109376369,
          0.04866210024238741,
          0.12272326592785907,
          2.8793063400756784,
          0.7779203044014191,
          0.09000000000000236,
          0.670716780765178,
          0.1349703671181189,
          2.855529723186229,
          0.16854969593564653,
          0.051478150704936665,
          2.218486195584736,
          0.05478138369920805,
          0.15745793088948826,
          0.06356099432828034,
          0.36388597115029764,
          0.10317460927960906,
          0.3039078807796848,
          0.009219544457294136,
          0.18976301009416952,
          0.04418144406874595,
          0.03901281840626383,
          1.2154250285394075,
          0.24278591392418555,
          1.0479160271701167,
          1.089222199553423,
          0.7841492204931416,
          2.5912004939795774,
          0.7369124778425151,
          0.20947553556441614,
          0.07414849964767403,
          0.24901807163337372,
          0.16105899540230412,
          0.2564936646391003,
          0.05345091205956856,
          0.14541320435228974,
          0.20961870145576267,
          0.4019266102163431,
          0.03848376280978462,
          0.17341568556506076,
          0.4250329398999627,
          0.09563472172804274,
          0.208655218003291,
          0.17755280904565368,
          0.0041231056256183915,
          0.0840951841665156,
          0.07180529228405831,
          0.04609772228646594,
          0.10332473082471168,
          0.04753945729601627
         ],
         "yaxis": "y"
        }
       ],
       "layout": {
        "barmode": "relative",
        "legend": {
         "tracegroupgap": 0
        },
        "margin": {
         "t": 60
        },
        "template": {
         "data": {
          "bar": [
           {
            "error_x": {
             "color": "#2a3f5f"
            },
            "error_y": {
             "color": "#2a3f5f"
            },
            "marker": {
             "line": {
              "color": "#E5ECF6",
              "width": 0.5
             }
            },
            "type": "bar"
           }
          ],
          "barpolar": [
           {
            "marker": {
             "line": {
              "color": "#E5ECF6",
              "width": 0.5
             }
            },
            "type": "barpolar"
           }
          ],
          "carpet": [
           {
            "aaxis": {
             "endlinecolor": "#2a3f5f",
             "gridcolor": "white",
             "linecolor": "white",
             "minorgridcolor": "white",
             "startlinecolor": "#2a3f5f"
            },
            "baxis": {
             "endlinecolor": "#2a3f5f",
             "gridcolor": "white",
             "linecolor": "white",
             "minorgridcolor": "white",
             "startlinecolor": "#2a3f5f"
            },
            "type": "carpet"
           }
          ],
          "choropleth": [
           {
            "colorbar": {
             "outlinewidth": 0,
             "ticks": ""
            },
            "type": "choropleth"
           }
          ],
          "contour": [
           {
            "colorbar": {
             "outlinewidth": 0,
             "ticks": ""
            },
            "colorscale": [
             [
              0,
              "#0d0887"
             ],
             [
              0.1111111111111111,
              "#46039f"
             ],
             [
              0.2222222222222222,
              "#7201a8"
             ],
             [
              0.3333333333333333,
              "#9c179e"
             ],
             [
              0.4444444444444444,
              "#bd3786"
             ],
             [
              0.5555555555555556,
              "#d8576b"
             ],
             [
              0.6666666666666666,
              "#ed7953"
             ],
             [
              0.7777777777777778,
              "#fb9f3a"
             ],
             [
              0.8888888888888888,
              "#fdca26"
             ],
             [
              1,
              "#f0f921"
             ]
            ],
            "type": "contour"
           }
          ],
          "contourcarpet": [
           {
            "colorbar": {
             "outlinewidth": 0,
             "ticks": ""
            },
            "type": "contourcarpet"
           }
          ],
          "heatmap": [
           {
            "colorbar": {
             "outlinewidth": 0,
             "ticks": ""
            },
            "colorscale": [
             [
              0,
              "#0d0887"
             ],
             [
              0.1111111111111111,
              "#46039f"
             ],
             [
              0.2222222222222222,
              "#7201a8"
             ],
             [
              0.3333333333333333,
              "#9c179e"
             ],
             [
              0.4444444444444444,
              "#bd3786"
             ],
             [
              0.5555555555555556,
              "#d8576b"
             ],
             [
              0.6666666666666666,
              "#ed7953"
             ],
             [
              0.7777777777777778,
              "#fb9f3a"
             ],
             [
              0.8888888888888888,
              "#fdca26"
             ],
             [
              1,
              "#f0f921"
             ]
            ],
            "type": "heatmap"
           }
          ],
          "heatmapgl": [
           {
            "colorbar": {
             "outlinewidth": 0,
             "ticks": ""
            },
            "colorscale": [
             [
              0,
              "#0d0887"
             ],
             [
              0.1111111111111111,
              "#46039f"
             ],
             [
              0.2222222222222222,
              "#7201a8"
             ],
             [
              0.3333333333333333,
              "#9c179e"
             ],
             [
              0.4444444444444444,
              "#bd3786"
             ],
             [
              0.5555555555555556,
              "#d8576b"
             ],
             [
              0.6666666666666666,
              "#ed7953"
             ],
             [
              0.7777777777777778,
              "#fb9f3a"
             ],
             [
              0.8888888888888888,
              "#fdca26"
             ],
             [
              1,
              "#f0f921"
             ]
            ],
            "type": "heatmapgl"
           }
          ],
          "histogram": [
           {
            "marker": {
             "colorbar": {
              "outlinewidth": 0,
              "ticks": ""
             }
            },
            "type": "histogram"
           }
          ],
          "histogram2d": [
           {
            "colorbar": {
             "outlinewidth": 0,
             "ticks": ""
            },
            "colorscale": [
             [
              0,
              "#0d0887"
             ],
             [
              0.1111111111111111,
              "#46039f"
             ],
             [
              0.2222222222222222,
              "#7201a8"
             ],
             [
              0.3333333333333333,
              "#9c179e"
             ],
             [
              0.4444444444444444,
              "#bd3786"
             ],
             [
              0.5555555555555556,
              "#d8576b"
             ],
             [
              0.6666666666666666,
              "#ed7953"
             ],
             [
              0.7777777777777778,
              "#fb9f3a"
             ],
             [
              0.8888888888888888,
              "#fdca26"
             ],
             [
              1,
              "#f0f921"
             ]
            ],
            "type": "histogram2d"
           }
          ],
          "histogram2dcontour": [
           {
            "colorbar": {
             "outlinewidth": 0,
             "ticks": ""
            },
            "colorscale": [
             [
              0,
              "#0d0887"
             ],
             [
              0.1111111111111111,
              "#46039f"
             ],
             [
              0.2222222222222222,
              "#7201a8"
             ],
             [
              0.3333333333333333,
              "#9c179e"
             ],
             [
              0.4444444444444444,
              "#bd3786"
             ],
             [
              0.5555555555555556,
              "#d8576b"
             ],
             [
              0.6666666666666666,
              "#ed7953"
             ],
             [
              0.7777777777777778,
              "#fb9f3a"
             ],
             [
              0.8888888888888888,
              "#fdca26"
             ],
             [
              1,
              "#f0f921"
             ]
            ],
            "type": "histogram2dcontour"
           }
          ],
          "mesh3d": [
           {
            "colorbar": {
             "outlinewidth": 0,
             "ticks": ""
            },
            "type": "mesh3d"
           }
          ],
          "parcoords": [
           {
            "line": {
             "colorbar": {
              "outlinewidth": 0,
              "ticks": ""
             }
            },
            "type": "parcoords"
           }
          ],
          "pie": [
           {
            "automargin": true,
            "type": "pie"
           }
          ],
          "scatter": [
           {
            "marker": {
             "colorbar": {
              "outlinewidth": 0,
              "ticks": ""
             }
            },
            "type": "scatter"
           }
          ],
          "scatter3d": [
           {
            "line": {
             "colorbar": {
              "outlinewidth": 0,
              "ticks": ""
             }
            },
            "marker": {
             "colorbar": {
              "outlinewidth": 0,
              "ticks": ""
             }
            },
            "type": "scatter3d"
           }
          ],
          "scattercarpet": [
           {
            "marker": {
             "colorbar": {
              "outlinewidth": 0,
              "ticks": ""
             }
            },
            "type": "scattercarpet"
           }
          ],
          "scattergeo": [
           {
            "marker": {
             "colorbar": {
              "outlinewidth": 0,
              "ticks": ""
             }
            },
            "type": "scattergeo"
           }
          ],
          "scattergl": [
           {
            "marker": {
             "colorbar": {
              "outlinewidth": 0,
              "ticks": ""
             }
            },
            "type": "scattergl"
           }
          ],
          "scattermapbox": [
           {
            "marker": {
             "colorbar": {
              "outlinewidth": 0,
              "ticks": ""
             }
            },
            "type": "scattermapbox"
           }
          ],
          "scatterpolar": [
           {
            "marker": {
             "colorbar": {
              "outlinewidth": 0,
              "ticks": ""
             }
            },
            "type": "scatterpolar"
           }
          ],
          "scatterpolargl": [
           {
            "marker": {
             "colorbar": {
              "outlinewidth": 0,
              "ticks": ""
             }
            },
            "type": "scatterpolargl"
           }
          ],
          "scatterternary": [
           {
            "marker": {
             "colorbar": {
              "outlinewidth": 0,
              "ticks": ""
             }
            },
            "type": "scatterternary"
           }
          ],
          "surface": [
           {
            "colorbar": {
             "outlinewidth": 0,
             "ticks": ""
            },
            "colorscale": [
             [
              0,
              "#0d0887"
             ],
             [
              0.1111111111111111,
              "#46039f"
             ],
             [
              0.2222222222222222,
              "#7201a8"
             ],
             [
              0.3333333333333333,
              "#9c179e"
             ],
             [
              0.4444444444444444,
              "#bd3786"
             ],
             [
              0.5555555555555556,
              "#d8576b"
             ],
             [
              0.6666666666666666,
              "#ed7953"
             ],
             [
              0.7777777777777778,
              "#fb9f3a"
             ],
             [
              0.8888888888888888,
              "#fdca26"
             ],
             [
              1,
              "#f0f921"
             ]
            ],
            "type": "surface"
           }
          ],
          "table": [
           {
            "cells": {
             "fill": {
              "color": "#EBF0F8"
             },
             "line": {
              "color": "white"
             }
            },
            "header": {
             "fill": {
              "color": "#C8D4E3"
             },
             "line": {
              "color": "white"
             }
            },
            "type": "table"
           }
          ]
         },
         "layout": {
          "annotationdefaults": {
           "arrowcolor": "#2a3f5f",
           "arrowhead": 0,
           "arrowwidth": 1
          },
          "coloraxis": {
           "colorbar": {
            "outlinewidth": 0,
            "ticks": ""
           }
          },
          "colorscale": {
           "diverging": [
            [
             0,
             "#8e0152"
            ],
            [
             0.1,
             "#c51b7d"
            ],
            [
             0.2,
             "#de77ae"
            ],
            [
             0.3,
             "#f1b6da"
            ],
            [
             0.4,
             "#fde0ef"
            ],
            [
             0.5,
             "#f7f7f7"
            ],
            [
             0.6,
             "#e6f5d0"
            ],
            [
             0.7,
             "#b8e186"
            ],
            [
             0.8,
             "#7fbc41"
            ],
            [
             0.9,
             "#4d9221"
            ],
            [
             1,
             "#276419"
            ]
           ],
           "sequential": [
            [
             0,
             "#0d0887"
            ],
            [
             0.1111111111111111,
             "#46039f"
            ],
            [
             0.2222222222222222,
             "#7201a8"
            ],
            [
             0.3333333333333333,
             "#9c179e"
            ],
            [
             0.4444444444444444,
             "#bd3786"
            ],
            [
             0.5555555555555556,
             "#d8576b"
            ],
            [
             0.6666666666666666,
             "#ed7953"
            ],
            [
             0.7777777777777778,
             "#fb9f3a"
            ],
            [
             0.8888888888888888,
             "#fdca26"
            ],
            [
             1,
             "#f0f921"
            ]
           ],
           "sequentialminus": [
            [
             0,
             "#0d0887"
            ],
            [
             0.1111111111111111,
             "#46039f"
            ],
            [
             0.2222222222222222,
             "#7201a8"
            ],
            [
             0.3333333333333333,
             "#9c179e"
            ],
            [
             0.4444444444444444,
             "#bd3786"
            ],
            [
             0.5555555555555556,
             "#d8576b"
            ],
            [
             0.6666666666666666,
             "#ed7953"
            ],
            [
             0.7777777777777778,
             "#fb9f3a"
            ],
            [
             0.8888888888888888,
             "#fdca26"
            ],
            [
             1,
             "#f0f921"
            ]
           ]
          },
          "colorway": [
           "#636efa",
           "#EF553B",
           "#00cc96",
           "#ab63fa",
           "#FFA15A",
           "#19d3f3",
           "#FF6692",
           "#B6E880",
           "#FF97FF",
           "#FECB52"
          ],
          "font": {
           "color": "#2a3f5f"
          },
          "geo": {
           "bgcolor": "white",
           "lakecolor": "white",
           "landcolor": "#E5ECF6",
           "showlakes": true,
           "showland": true,
           "subunitcolor": "white"
          },
          "hoverlabel": {
           "align": "left"
          },
          "hovermode": "closest",
          "mapbox": {
           "style": "light"
          },
          "paper_bgcolor": "white",
          "plot_bgcolor": "#E5ECF6",
          "polar": {
           "angularaxis": {
            "gridcolor": "white",
            "linecolor": "white",
            "ticks": ""
           },
           "bgcolor": "#E5ECF6",
           "radialaxis": {
            "gridcolor": "white",
            "linecolor": "white",
            "ticks": ""
           }
          },
          "scene": {
           "xaxis": {
            "backgroundcolor": "#E5ECF6",
            "gridcolor": "white",
            "gridwidth": 2,
            "linecolor": "white",
            "showbackground": true,
            "ticks": "",
            "zerolinecolor": "white"
           },
           "yaxis": {
            "backgroundcolor": "#E5ECF6",
            "gridcolor": "white",
            "gridwidth": 2,
            "linecolor": "white",
            "showbackground": true,
            "ticks": "",
            "zerolinecolor": "white"
           },
           "zaxis": {
            "backgroundcolor": "#E5ECF6",
            "gridcolor": "white",
            "gridwidth": 2,
            "linecolor": "white",
            "showbackground": true,
            "ticks": "",
            "zerolinecolor": "white"
           }
          },
          "shapedefaults": {
           "line": {
            "color": "#2a3f5f"
           }
          },
          "ternary": {
           "aaxis": {
            "gridcolor": "white",
            "linecolor": "white",
            "ticks": ""
           },
           "baxis": {
            "gridcolor": "white",
            "linecolor": "white",
            "ticks": ""
           },
           "bgcolor": "#E5ECF6",
           "caxis": {
            "gridcolor": "white",
            "linecolor": "white",
            "ticks": ""
           }
          },
          "title": {
           "x": 0.05
          },
          "xaxis": {
           "automargin": true,
           "gridcolor": "white",
           "linecolor": "white",
           "ticks": "",
           "title": {
            "standoff": 15
           },
           "zerolinecolor": "white",
           "zerolinewidth": 2
          },
          "yaxis": {
           "automargin": true,
           "gridcolor": "white",
           "linecolor": "white",
           "ticks": "",
           "title": {
            "standoff": 15
           },
           "zerolinecolor": "white",
           "zerolinewidth": 2
          }
         }
        },
        "xaxis": {
         "anchor": "y",
         "domain": [
          0,
          1
         ],
         "title": {
          "text": "Name"
         }
        },
        "yaxis": {
         "anchor": "x",
         "domain": [
          0,
          1
         ],
         "title": {
          "text": "DistanceC"
         }
        }
       }
      }
     },
     "metadata": {}
    },
    {
     "output_type": "display_data",
     "data": {
      "application/vnd.plotly.v1+json": {
       "config": {
        "plotlyServerURL": "https://plot.ly"
       },
       "data": [
        {
         "alignmentgroup": "True",
         "hovertemplate": "Name=%{x}<br>DistanceG=%{y}<extra></extra>",
         "legendgroup": "",
         "marker": {
          "color": "#636efa"
         },
         "name": "",
         "offsetgroup": "",
         "orientation": "v",
         "showlegend": false,
         "textposition": "auto",
         "type": "bar",
         "x": [
          "V108",
          "W109",
          "R110",
          "K111",
          "H112",
          "Y113",
          "I114",
          "T115",
          "Y116",
          "R117",
          "I118",
          "N119",
          "N120",
          "Y121",
          "T122",
          "D124",
          "M125",
          "N126",
          "R127",
          "E128",
          "D129",
          "V130",
          "D131",
          "Y132",
          "A133",
          "I134",
          "R135",
          "K136",
          "A137",
          "F138",
          "Q139",
          "V140",
          "W141",
          "S142",
          "N143",
          "V144",
          "T145",
          "L147",
          "K148",
          "F149",
          "S150",
          "K151",
          "I152",
          "N153",
          "T154",
          "G155",
          "M156",
          "A157",
          "D158",
          "I159",
          "L160",
          "V161",
          "V162",
          "F163",
          "A164",
          "R165",
          "G166",
          "A167",
          "H168",
          "H172",
          "A173",
          "F174",
          "D175",
          "G176",
          "K177",
          "G178",
          "G179",
          "I180",
          "L181",
          "A182",
          "H183",
          "A184",
          "F185",
          "G186",
          "G188",
          "S189",
          "G190",
          "I191",
          "G192",
          "G193",
          "D194",
          "A195",
          "H196",
          "F197",
          "D198",
          "E199",
          "D200",
          "E201",
          "F202",
          "W203",
          "T204",
          "T205",
          "H206",
          "S207",
          "G208",
          "G209",
          "T210",
          "N211",
          "L212",
          "F213",
          "L214",
          "T215",
          "A216",
          "V217",
          "H218",
          "E219",
          "I220",
          "G221",
          "H222",
          "S223",
          "L224",
          "G225",
          "L226",
          "G227",
          "H228",
          "S229",
          "S230",
          "D231",
          "K233",
          "A234",
          "V235",
          "M236",
          "F237",
          "T239",
          "Y240",
          "K241",
          "Y242",
          "V243",
          "D244",
          "I245",
          "N246",
          "T247",
          "F248",
          "R249",
          "L250",
          "S251",
          "A252",
          "D253",
          "D254",
          "I255",
          "R256",
          "G257",
          "I258",
          "Q259",
          "S260",
          "L261",
          "Y262",
          "G263"
         ],
         "xaxis": "x",
         "y": [
          0.11299999999999955,
          0.4264692251499534,
          0.0206155281280842,
          0.09808159868191282,
          0.1350333292191137,
          0.12814054783713086,
          0.041677331968350995,
          0.008246211251230751,
          0.017888543820003495,
          0.05142956348250082,
          0.006000000000000227,
          0.034132096331749295,
          0.05824087911424164,
          0.4269578433522511,
          0.16858232410308427,
          0.11360017605619649,
          0.010198039027176609,
          0.05197114584074651,
          0.016492422502461933,
          0.05308483775994517,
          0.07467261881039002,
          0.008062257748303115,
          0.10600000000000875,
          0.11800423721205446,
          0.14208800090086027,
          0.026305892875942084,
          0.11515641536622624,
          0.07102816342831703,
          0.2542833065696513,
          0.08702298546934654,
          0.10517128885773842,
          0.05594640292279909,
          0.21270872102478838,
          0.36276989952310357,
          0.07247068372797999,
          0.24633716731341976,
          0.06300000000000239,
          0.03255764119220025,
          0.11386395390991777,
          0.031320919526732834,
          0.056568542494935155,
          0.07632168761236215,
          0.03956008088969718,
          0.1039999999999992,
          0.013341664064131255,
          0.3040213808270794,
          0.029832867780348982,
          0.045398237851266274,
          0.08139410298049664,
          0.03342154993413715,
          0.03200000000001069,
          0.025942243542141655,
          0.054203320931471635,
          0.17302600960549433,
          0.08856635930193199,
          0.16819334112859674,
          0.08697700845627013,
          0.09362157870919195,
          0.23800840321299535,
          0.29347061181658063,
          1.0619425596518979,
          0.8044706333981297,
          0.38408332429305003,
          0.07580237463298681,
          0.12165525060596764,
          1.276954580241599,
          1.5544806206575892,
          1.431157573434881,
          0.4581091572976972,
          0.5900932129757195,
          4.4913001458375,
          0.6163148545994971,
          0.8059032199960501,
          0.09234717104491531,
          0.05981638571495035,
          0.04801041553663306,
          0.028160255680655465,
          0.10900000000000887,
          0.12041594578792754,
          0.2231815404552974,
          0.13904315876734613,
          0.2847630594020191,
          0.2879340202199075,
          0.3821256337907733,
          0.21510230124291405,
          0.29852973051271703,
          0.10825894882179443,
          0.15076471735787605,
          0.08814193099767514,
          0.08949301648732921,
          0.6727287714971033,
          0.3053342430845179,
          0.3698986347636424,
          0.20308865059378634,
          0.5892113372975805,
          0.7366423827068274,
          0.19782062582045257,
          0.9689623315691867,
          0.8226597109376369,
          2.586993815222606,
          0.6128702962291436,
          1.0677846224777652,
          1.399064330186429,
          0.9533546034923236,
          0.670716780765178,
          0.1349703671181189,
          3.5818951687619256,
          0.16854969593564653,
          0.051478150704936665,
          2.2719658888284275,
          0.05478138369920805,
          0.15745793088948826,
          0.06356099432828034,
          0.36388597115029764,
          0.10317460927960906,
          0.3039078807796848,
          0.009219544457294136,
          0.7608291529640494,
          0.96420018668325,
          0.22947766775875975,
          7.328823097878687,
          3.032915758803734,
          1.0479160271701167,
          1.089222199553423,
          2.181414220179191,
          3.7507673881487187,
          4.990177652148271,
          0.20947553556441614,
          0.07414849964767403,
          0.24901807163337372,
          0.4508092723092579,
          0.2564936646391003,
          0.05345091205956856,
          0.14541320435228974,
          0.6048346881586772,
          0.4536540532167718,
          0.03848376280978462,
          0.14350261321661045,
          0.4250329398999627,
          0.12614673994995323,
          0.208655218003291,
          0.17755280904565368,
          0.12414910390333052,
          0.10400961494016127,
          0.07180529228405831,
          0.04609772228646594,
          0.09404786015641299,
          0.04753945729601627
         ],
         "yaxis": "y"
        }
       ],
       "layout": {
        "barmode": "relative",
        "legend": {
         "tracegroupgap": 0
        },
        "margin": {
         "t": 60
        },
        "template": {
         "data": {
          "bar": [
           {
            "error_x": {
             "color": "#2a3f5f"
            },
            "error_y": {
             "color": "#2a3f5f"
            },
            "marker": {
             "line": {
              "color": "#E5ECF6",
              "width": 0.5
             }
            },
            "type": "bar"
           }
          ],
          "barpolar": [
           {
            "marker": {
             "line": {
              "color": "#E5ECF6",
              "width": 0.5
             }
            },
            "type": "barpolar"
           }
          ],
          "carpet": [
           {
            "aaxis": {
             "endlinecolor": "#2a3f5f",
             "gridcolor": "white",
             "linecolor": "white",
             "minorgridcolor": "white",
             "startlinecolor": "#2a3f5f"
            },
            "baxis": {
             "endlinecolor": "#2a3f5f",
             "gridcolor": "white",
             "linecolor": "white",
             "minorgridcolor": "white",
             "startlinecolor": "#2a3f5f"
            },
            "type": "carpet"
           }
          ],
          "choropleth": [
           {
            "colorbar": {
             "outlinewidth": 0,
             "ticks": ""
            },
            "type": "choropleth"
           }
          ],
          "contour": [
           {
            "colorbar": {
             "outlinewidth": 0,
             "ticks": ""
            },
            "colorscale": [
             [
              0,
              "#0d0887"
             ],
             [
              0.1111111111111111,
              "#46039f"
             ],
             [
              0.2222222222222222,
              "#7201a8"
             ],
             [
              0.3333333333333333,
              "#9c179e"
             ],
             [
              0.4444444444444444,
              "#bd3786"
             ],
             [
              0.5555555555555556,
              "#d8576b"
             ],
             [
              0.6666666666666666,
              "#ed7953"
             ],
             [
              0.7777777777777778,
              "#fb9f3a"
             ],
             [
              0.8888888888888888,
              "#fdca26"
             ],
             [
              1,
              "#f0f921"
             ]
            ],
            "type": "contour"
           }
          ],
          "contourcarpet": [
           {
            "colorbar": {
             "outlinewidth": 0,
             "ticks": ""
            },
            "type": "contourcarpet"
           }
          ],
          "heatmap": [
           {
            "colorbar": {
             "outlinewidth": 0,
             "ticks": ""
            },
            "colorscale": [
             [
              0,
              "#0d0887"
             ],
             [
              0.1111111111111111,
              "#46039f"
             ],
             [
              0.2222222222222222,
              "#7201a8"
             ],
             [
              0.3333333333333333,
              "#9c179e"
             ],
             [
              0.4444444444444444,
              "#bd3786"
             ],
             [
              0.5555555555555556,
              "#d8576b"
             ],
             [
              0.6666666666666666,
              "#ed7953"
             ],
             [
              0.7777777777777778,
              "#fb9f3a"
             ],
             [
              0.8888888888888888,
              "#fdca26"
             ],
             [
              1,
              "#f0f921"
             ]
            ],
            "type": "heatmap"
           }
          ],
          "heatmapgl": [
           {
            "colorbar": {
             "outlinewidth": 0,
             "ticks": ""
            },
            "colorscale": [
             [
              0,
              "#0d0887"
             ],
             [
              0.1111111111111111,
              "#46039f"
             ],
             [
              0.2222222222222222,
              "#7201a8"
             ],
             [
              0.3333333333333333,
              "#9c179e"
             ],
             [
              0.4444444444444444,
              "#bd3786"
             ],
             [
              0.5555555555555556,
              "#d8576b"
             ],
             [
              0.6666666666666666,
              "#ed7953"
             ],
             [
              0.7777777777777778,
              "#fb9f3a"
             ],
             [
              0.8888888888888888,
              "#fdca26"
             ],
             [
              1,
              "#f0f921"
             ]
            ],
            "type": "heatmapgl"
           }
          ],
          "histogram": [
           {
            "marker": {
             "colorbar": {
              "outlinewidth": 0,
              "ticks": ""
             }
            },
            "type": "histogram"
           }
          ],
          "histogram2d": [
           {
            "colorbar": {
             "outlinewidth": 0,
             "ticks": ""
            },
            "colorscale": [
             [
              0,
              "#0d0887"
             ],
             [
              0.1111111111111111,
              "#46039f"
             ],
             [
              0.2222222222222222,
              "#7201a8"
             ],
             [
              0.3333333333333333,
              "#9c179e"
             ],
             [
              0.4444444444444444,
              "#bd3786"
             ],
             [
              0.5555555555555556,
              "#d8576b"
             ],
             [
              0.6666666666666666,
              "#ed7953"
             ],
             [
              0.7777777777777778,
              "#fb9f3a"
             ],
             [
              0.8888888888888888,
              "#fdca26"
             ],
             [
              1,
              "#f0f921"
             ]
            ],
            "type": "histogram2d"
           }
          ],
          "histogram2dcontour": [
           {
            "colorbar": {
             "outlinewidth": 0,
             "ticks": ""
            },
            "colorscale": [
             [
              0,
              "#0d0887"
             ],
             [
              0.1111111111111111,
              "#46039f"
             ],
             [
              0.2222222222222222,
              "#7201a8"
             ],
             [
              0.3333333333333333,
              "#9c179e"
             ],
             [
              0.4444444444444444,
              "#bd3786"
             ],
             [
              0.5555555555555556,
              "#d8576b"
             ],
             [
              0.6666666666666666,
              "#ed7953"
             ],
             [
              0.7777777777777778,
              "#fb9f3a"
             ],
             [
              0.8888888888888888,
              "#fdca26"
             ],
             [
              1,
              "#f0f921"
             ]
            ],
            "type": "histogram2dcontour"
           }
          ],
          "mesh3d": [
           {
            "colorbar": {
             "outlinewidth": 0,
             "ticks": ""
            },
            "type": "mesh3d"
           }
          ],
          "parcoords": [
           {
            "line": {
             "colorbar": {
              "outlinewidth": 0,
              "ticks": ""
             }
            },
            "type": "parcoords"
           }
          ],
          "pie": [
           {
            "automargin": true,
            "type": "pie"
           }
          ],
          "scatter": [
           {
            "marker": {
             "colorbar": {
              "outlinewidth": 0,
              "ticks": ""
             }
            },
            "type": "scatter"
           }
          ],
          "scatter3d": [
           {
            "line": {
             "colorbar": {
              "outlinewidth": 0,
              "ticks": ""
             }
            },
            "marker": {
             "colorbar": {
              "outlinewidth": 0,
              "ticks": ""
             }
            },
            "type": "scatter3d"
           }
          ],
          "scattercarpet": [
           {
            "marker": {
             "colorbar": {
              "outlinewidth": 0,
              "ticks": ""
             }
            },
            "type": "scattercarpet"
           }
          ],
          "scattergeo": [
           {
            "marker": {
             "colorbar": {
              "outlinewidth": 0,
              "ticks": ""
             }
            },
            "type": "scattergeo"
           }
          ],
          "scattergl": [
           {
            "marker": {
             "colorbar": {
              "outlinewidth": 0,
              "ticks": ""
             }
            },
            "type": "scattergl"
           }
          ],
          "scattermapbox": [
           {
            "marker": {
             "colorbar": {
              "outlinewidth": 0,
              "ticks": ""
             }
            },
            "type": "scattermapbox"
           }
          ],
          "scatterpolar": [
           {
            "marker": {
             "colorbar": {
              "outlinewidth": 0,
              "ticks": ""
             }
            },
            "type": "scatterpolar"
           }
          ],
          "scatterpolargl": [
           {
            "marker": {
             "colorbar": {
              "outlinewidth": 0,
              "ticks": ""
             }
            },
            "type": "scatterpolargl"
           }
          ],
          "scatterternary": [
           {
            "marker": {
             "colorbar": {
              "outlinewidth": 0,
              "ticks": ""
             }
            },
            "type": "scatterternary"
           }
          ],
          "surface": [
           {
            "colorbar": {
             "outlinewidth": 0,
             "ticks": ""
            },
            "colorscale": [
             [
              0,
              "#0d0887"
             ],
             [
              0.1111111111111111,
              "#46039f"
             ],
             [
              0.2222222222222222,
              "#7201a8"
             ],
             [
              0.3333333333333333,
              "#9c179e"
             ],
             [
              0.4444444444444444,
              "#bd3786"
             ],
             [
              0.5555555555555556,
              "#d8576b"
             ],
             [
              0.6666666666666666,
              "#ed7953"
             ],
             [
              0.7777777777777778,
              "#fb9f3a"
             ],
             [
              0.8888888888888888,
              "#fdca26"
             ],
             [
              1,
              "#f0f921"
             ]
            ],
            "type": "surface"
           }
          ],
          "table": [
           {
            "cells": {
             "fill": {
              "color": "#EBF0F8"
             },
             "line": {
              "color": "white"
             }
            },
            "header": {
             "fill": {
              "color": "#C8D4E3"
             },
             "line": {
              "color": "white"
             }
            },
            "type": "table"
           }
          ]
         },
         "layout": {
          "annotationdefaults": {
           "arrowcolor": "#2a3f5f",
           "arrowhead": 0,
           "arrowwidth": 1
          },
          "coloraxis": {
           "colorbar": {
            "outlinewidth": 0,
            "ticks": ""
           }
          },
          "colorscale": {
           "diverging": [
            [
             0,
             "#8e0152"
            ],
            [
             0.1,
             "#c51b7d"
            ],
            [
             0.2,
             "#de77ae"
            ],
            [
             0.3,
             "#f1b6da"
            ],
            [
             0.4,
             "#fde0ef"
            ],
            [
             0.5,
             "#f7f7f7"
            ],
            [
             0.6,
             "#e6f5d0"
            ],
            [
             0.7,
             "#b8e186"
            ],
            [
             0.8,
             "#7fbc41"
            ],
            [
             0.9,
             "#4d9221"
            ],
            [
             1,
             "#276419"
            ]
           ],
           "sequential": [
            [
             0,
             "#0d0887"
            ],
            [
             0.1111111111111111,
             "#46039f"
            ],
            [
             0.2222222222222222,
             "#7201a8"
            ],
            [
             0.3333333333333333,
             "#9c179e"
            ],
            [
             0.4444444444444444,
             "#bd3786"
            ],
            [
             0.5555555555555556,
             "#d8576b"
            ],
            [
             0.6666666666666666,
             "#ed7953"
            ],
            [
             0.7777777777777778,
             "#fb9f3a"
            ],
            [
             0.8888888888888888,
             "#fdca26"
            ],
            [
             1,
             "#f0f921"
            ]
           ],
           "sequentialminus": [
            [
             0,
             "#0d0887"
            ],
            [
             0.1111111111111111,
             "#46039f"
            ],
            [
             0.2222222222222222,
             "#7201a8"
            ],
            [
             0.3333333333333333,
             "#9c179e"
            ],
            [
             0.4444444444444444,
             "#bd3786"
            ],
            [
             0.5555555555555556,
             "#d8576b"
            ],
            [
             0.6666666666666666,
             "#ed7953"
            ],
            [
             0.7777777777777778,
             "#fb9f3a"
            ],
            [
             0.8888888888888888,
             "#fdca26"
            ],
            [
             1,
             "#f0f921"
            ]
           ]
          },
          "colorway": [
           "#636efa",
           "#EF553B",
           "#00cc96",
           "#ab63fa",
           "#FFA15A",
           "#19d3f3",
           "#FF6692",
           "#B6E880",
           "#FF97FF",
           "#FECB52"
          ],
          "font": {
           "color": "#2a3f5f"
          },
          "geo": {
           "bgcolor": "white",
           "lakecolor": "white",
           "landcolor": "#E5ECF6",
           "showlakes": true,
           "showland": true,
           "subunitcolor": "white"
          },
          "hoverlabel": {
           "align": "left"
          },
          "hovermode": "closest",
          "mapbox": {
           "style": "light"
          },
          "paper_bgcolor": "white",
          "plot_bgcolor": "#E5ECF6",
          "polar": {
           "angularaxis": {
            "gridcolor": "white",
            "linecolor": "white",
            "ticks": ""
           },
           "bgcolor": "#E5ECF6",
           "radialaxis": {
            "gridcolor": "white",
            "linecolor": "white",
            "ticks": ""
           }
          },
          "scene": {
           "xaxis": {
            "backgroundcolor": "#E5ECF6",
            "gridcolor": "white",
            "gridwidth": 2,
            "linecolor": "white",
            "showbackground": true,
            "ticks": "",
            "zerolinecolor": "white"
           },
           "yaxis": {
            "backgroundcolor": "#E5ECF6",
            "gridcolor": "white",
            "gridwidth": 2,
            "linecolor": "white",
            "showbackground": true,
            "ticks": "",
            "zerolinecolor": "white"
           },
           "zaxis": {
            "backgroundcolor": "#E5ECF6",
            "gridcolor": "white",
            "gridwidth": 2,
            "linecolor": "white",
            "showbackground": true,
            "ticks": "",
            "zerolinecolor": "white"
           }
          },
          "shapedefaults": {
           "line": {
            "color": "#2a3f5f"
           }
          },
          "ternary": {
           "aaxis": {
            "gridcolor": "white",
            "linecolor": "white",
            "ticks": ""
           },
           "baxis": {
            "gridcolor": "white",
            "linecolor": "white",
            "ticks": ""
           },
           "bgcolor": "#E5ECF6",
           "caxis": {
            "gridcolor": "white",
            "linecolor": "white",
            "ticks": ""
           }
          },
          "title": {
           "x": 0.05
          },
          "xaxis": {
           "automargin": true,
           "gridcolor": "white",
           "linecolor": "white",
           "ticks": "",
           "title": {
            "standoff": 15
           },
           "zerolinecolor": "white",
           "zerolinewidth": 2
          },
          "yaxis": {
           "automargin": true,
           "gridcolor": "white",
           "linecolor": "white",
           "ticks": "",
           "title": {
            "standoff": 15
           },
           "zerolinecolor": "white",
           "zerolinewidth": 2
          }
         }
        },
        "xaxis": {
         "anchor": "y",
         "domain": [
          0,
          1
         ],
         "title": {
          "text": "Name"
         }
        },
        "yaxis": {
         "anchor": "x",
         "domain": [
          0,
          1
         ],
         "title": {
          "text": "DistanceG"
         }
        }
       }
      }
     },
     "metadata": {}
    },
    {
     "output_type": "display_data",
     "data": {
      "application/vnd.plotly.v1+json": {
       "config": {
        "plotlyServerURL": "https://plot.ly"
       },
       "data": [
        {
         "marker": {
          "color": "blue"
         },
         "name": "DistanceG",
         "type": "bar",
         "x": [
          "V108",
          "W109",
          "R110",
          "K111",
          "H112",
          "Y113",
          "I114",
          "T115",
          "Y116",
          "R117",
          "I118",
          "N119",
          "N120",
          "Y121",
          "T122",
          "D124",
          "M125",
          "N126",
          "R127",
          "E128",
          "D129",
          "V130",
          "D131",
          "Y132",
          "A133",
          "I134",
          "R135",
          "K136",
          "A137",
          "F138",
          "Q139",
          "V140",
          "W141",
          "S142",
          "N143",
          "V144",
          "T145",
          "L147",
          "K148",
          "F149",
          "S150",
          "K151",
          "I152",
          "N153",
          "T154",
          "G155",
          "M156",
          "A157",
          "D158",
          "I159",
          "L160",
          "V161",
          "V162",
          "F163",
          "A164",
          "R165",
          "G166",
          "A167",
          "H168",
          "H172",
          "A173",
          "F174",
          "D175",
          "G176",
          "K177",
          "G178",
          "G179",
          "I180",
          "L181",
          "A182",
          "H183",
          "A184",
          "F185",
          "G186",
          "G188",
          "S189",
          "G190",
          "I191",
          "G192",
          "G193",
          "D194",
          "A195",
          "H196",
          "F197",
          "D198",
          "E199",
          "D200",
          "E201",
          "F202",
          "W203",
          "T204",
          "T205",
          "H206",
          "S207",
          "G208",
          "G209",
          "T210",
          "N211",
          "L212",
          "F213",
          "L214",
          "T215",
          "A216",
          "V217",
          "H218",
          "E219",
          "I220",
          "G221",
          "H222",
          "S223",
          "L224",
          "G225",
          "L226",
          "G227",
          "H228",
          "S229",
          "S230",
          "D231",
          "K233",
          "A234",
          "V235",
          "M236",
          "F237",
          "T239",
          "Y240",
          "K241",
          "Y242",
          "V243",
          "D244",
          "I245",
          "N246",
          "T247",
          "F248",
          "R249",
          "L250",
          "S251",
          "A252",
          "D253",
          "D254",
          "I255",
          "R256",
          "G257",
          "I258",
          "Q259",
          "S260",
          "L261",
          "Y262",
          "G263"
         ],
         "y": [
          0.11299999999999955,
          0.4264692251499534,
          0.0206155281280842,
          0.09808159868191282,
          0.1350333292191137,
          0.12814054783713086,
          0.041677331968350995,
          0.008246211251230751,
          0.017888543820003495,
          0.05142956348250082,
          0.006000000000000227,
          0.034132096331749295,
          0.05824087911424164,
          0.4269578433522511,
          0.16858232410308427,
          0.11360017605619649,
          0.010198039027176609,
          0.05197114584074651,
          0.016492422502461933,
          0.05308483775994517,
          0.07467261881039002,
          0.008062257748303115,
          0.10600000000000875,
          0.11800423721205446,
          0.14208800090086027,
          0.026305892875942084,
          0.11515641536622624,
          0.07102816342831703,
          0.2542833065696513,
          0.08702298546934654,
          0.10517128885773842,
          0.05594640292279909,
          0.21270872102478838,
          0.36276989952310357,
          0.07247068372797999,
          0.24633716731341976,
          0.06300000000000239,
          0.03255764119220025,
          0.11386395390991777,
          0.031320919526732834,
          0.056568542494935155,
          0.07632168761236215,
          0.03956008088969718,
          0.1039999999999992,
          0.013341664064131255,
          0.3040213808270794,
          0.029832867780348982,
          0.045398237851266274,
          0.08139410298049664,
          0.03342154993413715,
          0.03200000000001069,
          0.025942243542141655,
          0.054203320931471635,
          0.17302600960549433,
          0.08856635930193199,
          0.16819334112859674,
          0.08697700845627013,
          0.09362157870919195,
          0.23800840321299535,
          0.29347061181658063,
          1.0619425596518979,
          0.8044706333981297,
          0.38408332429305003,
          0.07580237463298681,
          0.12165525060596764,
          1.276954580241599,
          1.5544806206575892,
          1.431157573434881,
          0.4581091572976972,
          0.5900932129757195,
          4.4913001458375,
          0.6163148545994971,
          0.8059032199960501,
          0.09234717104491531,
          0.05981638571495035,
          0.04801041553663306,
          0.028160255680655465,
          0.10900000000000887,
          0.12041594578792754,
          0.2231815404552974,
          0.13904315876734613,
          0.2847630594020191,
          0.2879340202199075,
          0.3821256337907733,
          0.21510230124291405,
          0.29852973051271703,
          0.10825894882179443,
          0.15076471735787605,
          0.08814193099767514,
          0.08949301648732921,
          0.6727287714971033,
          0.3053342430845179,
          0.3698986347636424,
          0.20308865059378634,
          0.5892113372975805,
          0.7366423827068274,
          0.19782062582045257,
          0.9689623315691867,
          0.8226597109376369,
          2.586993815222606,
          0.6128702962291436,
          1.0677846224777652,
          1.399064330186429,
          0.9533546034923236,
          0.670716780765178,
          0.1349703671181189,
          3.5818951687619256,
          0.16854969593564653,
          0.051478150704936665,
          2.2719658888284275,
          0.05478138369920805,
          0.15745793088948826,
          0.06356099432828034,
          0.36388597115029764,
          0.10317460927960906,
          0.3039078807796848,
          0.009219544457294136,
          0.7608291529640494,
          0.96420018668325,
          0.22947766775875975,
          7.328823097878687,
          3.032915758803734,
          1.0479160271701167,
          1.089222199553423,
          2.181414220179191,
          3.7507673881487187,
          4.990177652148271,
          0.20947553556441614,
          0.07414849964767403,
          0.24901807163337372,
          0.4508092723092579,
          0.2564936646391003,
          0.05345091205956856,
          0.14541320435228974,
          0.6048346881586772,
          0.4536540532167718,
          0.03848376280978462,
          0.14350261321661045,
          0.4250329398999627,
          0.12614673994995323,
          0.208655218003291,
          0.17755280904565368,
          0.12414910390333052,
          0.10400961494016127,
          0.07180529228405831,
          0.04609772228646594,
          0.09404786015641299,
          0.04753945729601627
         ]
        },
        {
         "marker": {
          "color": "red"
         },
         "name": "DistanceC",
         "type": "bar",
         "x": [
          "V108",
          "W109",
          "R110",
          "K111",
          "H112",
          "Y113",
          "I114",
          "T115",
          "Y116",
          "R117",
          "I118",
          "N119",
          "N120",
          "Y121",
          "T122",
          "D124",
          "M125",
          "N126",
          "R127",
          "E128",
          "D129",
          "V130",
          "D131",
          "Y132",
          "A133",
          "I134",
          "R135",
          "K136",
          "A137",
          "F138",
          "Q139",
          "V140",
          "W141",
          "S142",
          "N143",
          "V144",
          "T145",
          "L147",
          "K148",
          "F149",
          "S150",
          "K151",
          "I152",
          "N153",
          "T154",
          "G155",
          "M156",
          "A157",
          "D158",
          "I159",
          "L160",
          "V161",
          "V162",
          "F163",
          "A164",
          "R165",
          "G166",
          "A167",
          "H168",
          "H172",
          "A173",
          "F174",
          "D175",
          "G176",
          "K177",
          "G178",
          "G179",
          "I180",
          "L181",
          "A182",
          "H183",
          "A184",
          "F185",
          "G186",
          "G188",
          "S189",
          "G190",
          "I191",
          "G192",
          "G193",
          "D194",
          "A195",
          "H196",
          "F197",
          "D198",
          "E199",
          "D200",
          "E201",
          "F202",
          "W203",
          "T204",
          "T205",
          "H206",
          "S207",
          "G208",
          "G209",
          "T210",
          "N211",
          "L212",
          "F213",
          "L214",
          "T215",
          "A216",
          "V217",
          "H218",
          "E219",
          "I220",
          "G221",
          "H222",
          "S223",
          "L224",
          "G225",
          "L226",
          "G227",
          "H228",
          "S229",
          "S230",
          "D231",
          "K233",
          "A234",
          "V235",
          "M236",
          "F237",
          "T239",
          "Y240",
          "K241",
          "Y242",
          "V243",
          "D244",
          "I245",
          "N246",
          "T247",
          "F248",
          "R249",
          "L250",
          "S251",
          "A252",
          "D253",
          "D254",
          "I255",
          "R256",
          "G257",
          "I258",
          "Q259",
          "S260",
          "L261",
          "Y262",
          "G263"
         ],
         "y": [
          0.11299999999999955,
          0.9108485055155943,
          0.0206155281280842,
          0.09808159868191282,
          0.1350333292191137,
          0.12814054783713086,
          0.041677331968350995,
          0.008246211251230751,
          0.017888543820003495,
          0.05142956348250082,
          0.006000000000000227,
          0.034132096331749295,
          0.05824087911424164,
          0.4269578433522511,
          0.16858232410308427,
          0.11360017605619649,
          0.010198039027176609,
          0.05197114584074651,
          0.016492422502461933,
          0.05308483775994517,
          0.07467261881039002,
          0.008062257748303115,
          0.32573762447712107,
          0.11800423721205446,
          0.14208800090086027,
          0.026305892875942084,
          0.11515641536622624,
          0.07102816342831703,
          0.2542833065696513,
          0.03701351104664964,
          0.1172092146548208,
          0.05594640292279909,
          0.21270872102478838,
          0.07516648189186531,
          0.07247068372797999,
          0.24633716731341976,
          0.06300000000000239,
          0.03255764119220025,
          0.055865910893847785,
          0.031320919526732834,
          0.056568542494935155,
          0.07632168761236215,
          0.03956008088969718,
          0.1039999999999992,
          0.013341664064131255,
          0.6365571459028642,
          0.029832867780348982,
          0.045398237851266274,
          0.08139410298049664,
          0.03342154993413715,
          0.03200000000001069,
          0.025942243542141655,
          0.054203320931471635,
          0.17302600960549433,
          0.08856635930193199,
          0.16819334112859674,
          0.08697700845627013,
          0.09362157870919195,
          1.956847720186727,
          0.29347061181658063,
          0.2761340254296806,
          0.08440379138403478,
          1.6605360580246364,
          0.07580237463298681,
          0.12165525060596764,
          1.276954580241599,
          0.21731313812100578,
          3.196656534568581,
          0.15383432646843626,
          0.9247453703587767,
          0.1967028215354323,
          0.4350919443060296,
          0.021633307652783276,
          0.09234717104491531,
          0.05981638571495035,
          0.04801041553663306,
          0.028160255680655465,
          0.10900000000000887,
          0.12041594578792754,
          0.311025722408928,
          0.13904315876734613,
          0.2847630594020191,
          0.2879340202199075,
          0.28873517277947885,
          0.08502352615600065,
          0.5669611979668521,
          0.10825894882179443,
          0.15076471735787605,
          0.08814193099767514,
          0.08949301648732921,
          0.8187826329374618,
          0.03780211634287339,
          0.2972137278121509,
          0.20308865059378634,
          3.4787241914242157,
          0.7366423827068274,
          0.19782062582045257,
          0.43936431352580185,
          0.8226597109376369,
          0.04866210024238741,
          0.12272326592785907,
          2.8793063400756784,
          0.7779203044014191,
          0.09000000000000236,
          0.670716780765178,
          0.1349703671181189,
          2.855529723186229,
          0.16854969593564653,
          0.051478150704936665,
          2.218486195584736,
          0.05478138369920805,
          0.15745793088948826,
          0.06356099432828034,
          0.36388597115029764,
          0.10317460927960906,
          0.3039078807796848,
          0.009219544457294136,
          0.18976301009416952,
          0.04418144406874595,
          0.03901281840626383,
          1.2154250285394075,
          0.24278591392418555,
          1.0479160271701167,
          1.089222199553423,
          0.7841492204931416,
          2.5912004939795774,
          0.7369124778425151,
          0.20947553556441614,
          0.07414849964767403,
          0.24901807163337372,
          0.16105899540230412,
          0.2564936646391003,
          0.05345091205956856,
          0.14541320435228974,
          0.20961870145576267,
          0.4019266102163431,
          0.03848376280978462,
          0.17341568556506076,
          0.4250329398999627,
          0.09563472172804274,
          0.208655218003291,
          0.17755280904565368,
          0.0041231056256183915,
          0.0840951841665156,
          0.07180529228405831,
          0.04609772228646594,
          0.10332473082471168,
          0.04753945729601627
         ]
        }
       ],
       "layout": {
        "barmode": "group",
        "height": 1000,
        "template": {
         "data": {
          "bar": [
           {
            "error_x": {
             "color": "#2a3f5f"
            },
            "error_y": {
             "color": "#2a3f5f"
            },
            "marker": {
             "line": {
              "color": "#E5ECF6",
              "width": 0.5
             }
            },
            "type": "bar"
           }
          ],
          "barpolar": [
           {
            "marker": {
             "line": {
              "color": "#E5ECF6",
              "width": 0.5
             }
            },
            "type": "barpolar"
           }
          ],
          "carpet": [
           {
            "aaxis": {
             "endlinecolor": "#2a3f5f",
             "gridcolor": "white",
             "linecolor": "white",
             "minorgridcolor": "white",
             "startlinecolor": "#2a3f5f"
            },
            "baxis": {
             "endlinecolor": "#2a3f5f",
             "gridcolor": "white",
             "linecolor": "white",
             "minorgridcolor": "white",
             "startlinecolor": "#2a3f5f"
            },
            "type": "carpet"
           }
          ],
          "choropleth": [
           {
            "colorbar": {
             "outlinewidth": 0,
             "ticks": ""
            },
            "type": "choropleth"
           }
          ],
          "contour": [
           {
            "colorbar": {
             "outlinewidth": 0,
             "ticks": ""
            },
            "colorscale": [
             [
              0,
              "#0d0887"
             ],
             [
              0.1111111111111111,
              "#46039f"
             ],
             [
              0.2222222222222222,
              "#7201a8"
             ],
             [
              0.3333333333333333,
              "#9c179e"
             ],
             [
              0.4444444444444444,
              "#bd3786"
             ],
             [
              0.5555555555555556,
              "#d8576b"
             ],
             [
              0.6666666666666666,
              "#ed7953"
             ],
             [
              0.7777777777777778,
              "#fb9f3a"
             ],
             [
              0.8888888888888888,
              "#fdca26"
             ],
             [
              1,
              "#f0f921"
             ]
            ],
            "type": "contour"
           }
          ],
          "contourcarpet": [
           {
            "colorbar": {
             "outlinewidth": 0,
             "ticks": ""
            },
            "type": "contourcarpet"
           }
          ],
          "heatmap": [
           {
            "colorbar": {
             "outlinewidth": 0,
             "ticks": ""
            },
            "colorscale": [
             [
              0,
              "#0d0887"
             ],
             [
              0.1111111111111111,
              "#46039f"
             ],
             [
              0.2222222222222222,
              "#7201a8"
             ],
             [
              0.3333333333333333,
              "#9c179e"
             ],
             [
              0.4444444444444444,
              "#bd3786"
             ],
             [
              0.5555555555555556,
              "#d8576b"
             ],
             [
              0.6666666666666666,
              "#ed7953"
             ],
             [
              0.7777777777777778,
              "#fb9f3a"
             ],
             [
              0.8888888888888888,
              "#fdca26"
             ],
             [
              1,
              "#f0f921"
             ]
            ],
            "type": "heatmap"
           }
          ],
          "heatmapgl": [
           {
            "colorbar": {
             "outlinewidth": 0,
             "ticks": ""
            },
            "colorscale": [
             [
              0,
              "#0d0887"
             ],
             [
              0.1111111111111111,
              "#46039f"
             ],
             [
              0.2222222222222222,
              "#7201a8"
             ],
             [
              0.3333333333333333,
              "#9c179e"
             ],
             [
              0.4444444444444444,
              "#bd3786"
             ],
             [
              0.5555555555555556,
              "#d8576b"
             ],
             [
              0.6666666666666666,
              "#ed7953"
             ],
             [
              0.7777777777777778,
              "#fb9f3a"
             ],
             [
              0.8888888888888888,
              "#fdca26"
             ],
             [
              1,
              "#f0f921"
             ]
            ],
            "type": "heatmapgl"
           }
          ],
          "histogram": [
           {
            "marker": {
             "colorbar": {
              "outlinewidth": 0,
              "ticks": ""
             }
            },
            "type": "histogram"
           }
          ],
          "histogram2d": [
           {
            "colorbar": {
             "outlinewidth": 0,
             "ticks": ""
            },
            "colorscale": [
             [
              0,
              "#0d0887"
             ],
             [
              0.1111111111111111,
              "#46039f"
             ],
             [
              0.2222222222222222,
              "#7201a8"
             ],
             [
              0.3333333333333333,
              "#9c179e"
             ],
             [
              0.4444444444444444,
              "#bd3786"
             ],
             [
              0.5555555555555556,
              "#d8576b"
             ],
             [
              0.6666666666666666,
              "#ed7953"
             ],
             [
              0.7777777777777778,
              "#fb9f3a"
             ],
             [
              0.8888888888888888,
              "#fdca26"
             ],
             [
              1,
              "#f0f921"
             ]
            ],
            "type": "histogram2d"
           }
          ],
          "histogram2dcontour": [
           {
            "colorbar": {
             "outlinewidth": 0,
             "ticks": ""
            },
            "colorscale": [
             [
              0,
              "#0d0887"
             ],
             [
              0.1111111111111111,
              "#46039f"
             ],
             [
              0.2222222222222222,
              "#7201a8"
             ],
             [
              0.3333333333333333,
              "#9c179e"
             ],
             [
              0.4444444444444444,
              "#bd3786"
             ],
             [
              0.5555555555555556,
              "#d8576b"
             ],
             [
              0.6666666666666666,
              "#ed7953"
             ],
             [
              0.7777777777777778,
              "#fb9f3a"
             ],
             [
              0.8888888888888888,
              "#fdca26"
             ],
             [
              1,
              "#f0f921"
             ]
            ],
            "type": "histogram2dcontour"
           }
          ],
          "mesh3d": [
           {
            "colorbar": {
             "outlinewidth": 0,
             "ticks": ""
            },
            "type": "mesh3d"
           }
          ],
          "parcoords": [
           {
            "line": {
             "colorbar": {
              "outlinewidth": 0,
              "ticks": ""
             }
            },
            "type": "parcoords"
           }
          ],
          "pie": [
           {
            "automargin": true,
            "type": "pie"
           }
          ],
          "scatter": [
           {
            "marker": {
             "colorbar": {
              "outlinewidth": 0,
              "ticks": ""
             }
            },
            "type": "scatter"
           }
          ],
          "scatter3d": [
           {
            "line": {
             "colorbar": {
              "outlinewidth": 0,
              "ticks": ""
             }
            },
            "marker": {
             "colorbar": {
              "outlinewidth": 0,
              "ticks": ""
             }
            },
            "type": "scatter3d"
           }
          ],
          "scattercarpet": [
           {
            "marker": {
             "colorbar": {
              "outlinewidth": 0,
              "ticks": ""
             }
            },
            "type": "scattercarpet"
           }
          ],
          "scattergeo": [
           {
            "marker": {
             "colorbar": {
              "outlinewidth": 0,
              "ticks": ""
             }
            },
            "type": "scattergeo"
           }
          ],
          "scattergl": [
           {
            "marker": {
             "colorbar": {
              "outlinewidth": 0,
              "ticks": ""
             }
            },
            "type": "scattergl"
           }
          ],
          "scattermapbox": [
           {
            "marker": {
             "colorbar": {
              "outlinewidth": 0,
              "ticks": ""
             }
            },
            "type": "scattermapbox"
           }
          ],
          "scatterpolar": [
           {
            "marker": {
             "colorbar": {
              "outlinewidth": 0,
              "ticks": ""
             }
            },
            "type": "scatterpolar"
           }
          ],
          "scatterpolargl": [
           {
            "marker": {
             "colorbar": {
              "outlinewidth": 0,
              "ticks": ""
             }
            },
            "type": "scatterpolargl"
           }
          ],
          "scatterternary": [
           {
            "marker": {
             "colorbar": {
              "outlinewidth": 0,
              "ticks": ""
             }
            },
            "type": "scatterternary"
           }
          ],
          "surface": [
           {
            "colorbar": {
             "outlinewidth": 0,
             "ticks": ""
            },
            "colorscale": [
             [
              0,
              "#0d0887"
             ],
             [
              0.1111111111111111,
              "#46039f"
             ],
             [
              0.2222222222222222,
              "#7201a8"
             ],
             [
              0.3333333333333333,
              "#9c179e"
             ],
             [
              0.4444444444444444,
              "#bd3786"
             ],
             [
              0.5555555555555556,
              "#d8576b"
             ],
             [
              0.6666666666666666,
              "#ed7953"
             ],
             [
              0.7777777777777778,
              "#fb9f3a"
             ],
             [
              0.8888888888888888,
              "#fdca26"
             ],
             [
              1,
              "#f0f921"
             ]
            ],
            "type": "surface"
           }
          ],
          "table": [
           {
            "cells": {
             "fill": {
              "color": "#EBF0F8"
             },
             "line": {
              "color": "white"
             }
            },
            "header": {
             "fill": {
              "color": "#C8D4E3"
             },
             "line": {
              "color": "white"
             }
            },
            "type": "table"
           }
          ]
         },
         "layout": {
          "annotationdefaults": {
           "arrowcolor": "#2a3f5f",
           "arrowhead": 0,
           "arrowwidth": 1
          },
          "coloraxis": {
           "colorbar": {
            "outlinewidth": 0,
            "ticks": ""
           }
          },
          "colorscale": {
           "diverging": [
            [
             0,
             "#8e0152"
            ],
            [
             0.1,
             "#c51b7d"
            ],
            [
             0.2,
             "#de77ae"
            ],
            [
             0.3,
             "#f1b6da"
            ],
            [
             0.4,
             "#fde0ef"
            ],
            [
             0.5,
             "#f7f7f7"
            ],
            [
             0.6,
             "#e6f5d0"
            ],
            [
             0.7,
             "#b8e186"
            ],
            [
             0.8,
             "#7fbc41"
            ],
            [
             0.9,
             "#4d9221"
            ],
            [
             1,
             "#276419"
            ]
           ],
           "sequential": [
            [
             0,
             "#0d0887"
            ],
            [
             0.1111111111111111,
             "#46039f"
            ],
            [
             0.2222222222222222,
             "#7201a8"
            ],
            [
             0.3333333333333333,
             "#9c179e"
            ],
            [
             0.4444444444444444,
             "#bd3786"
            ],
            [
             0.5555555555555556,
             "#d8576b"
            ],
            [
             0.6666666666666666,
             "#ed7953"
            ],
            [
             0.7777777777777778,
             "#fb9f3a"
            ],
            [
             0.8888888888888888,
             "#fdca26"
            ],
            [
             1,
             "#f0f921"
            ]
           ],
           "sequentialminus": [
            [
             0,
             "#0d0887"
            ],
            [
             0.1111111111111111,
             "#46039f"
            ],
            [
             0.2222222222222222,
             "#7201a8"
            ],
            [
             0.3333333333333333,
             "#9c179e"
            ],
            [
             0.4444444444444444,
             "#bd3786"
            ],
            [
             0.5555555555555556,
             "#d8576b"
            ],
            [
             0.6666666666666666,
             "#ed7953"
            ],
            [
             0.7777777777777778,
             "#fb9f3a"
            ],
            [
             0.8888888888888888,
             "#fdca26"
            ],
            [
             1,
             "#f0f921"
            ]
           ]
          },
          "colorway": [
           "#636efa",
           "#EF553B",
           "#00cc96",
           "#ab63fa",
           "#FFA15A",
           "#19d3f3",
           "#FF6692",
           "#B6E880",
           "#FF97FF",
           "#FECB52"
          ],
          "font": {
           "color": "#2a3f5f"
          },
          "geo": {
           "bgcolor": "white",
           "lakecolor": "white",
           "landcolor": "#E5ECF6",
           "showlakes": true,
           "showland": true,
           "subunitcolor": "white"
          },
          "hoverlabel": {
           "align": "left"
          },
          "hovermode": "closest",
          "mapbox": {
           "style": "light"
          },
          "paper_bgcolor": "white",
          "plot_bgcolor": "#E5ECF6",
          "polar": {
           "angularaxis": {
            "gridcolor": "white",
            "linecolor": "white",
            "ticks": ""
           },
           "bgcolor": "#E5ECF6",
           "radialaxis": {
            "gridcolor": "white",
            "linecolor": "white",
            "ticks": ""
           }
          },
          "scene": {
           "xaxis": {
            "backgroundcolor": "#E5ECF6",
            "gridcolor": "white",
            "gridwidth": 2,
            "linecolor": "white",
            "showbackground": true,
            "ticks": "",
            "zerolinecolor": "white"
           },
           "yaxis": {
            "backgroundcolor": "#E5ECF6",
            "gridcolor": "white",
            "gridwidth": 2,
            "linecolor": "white",
            "showbackground": true,
            "ticks": "",
            "zerolinecolor": "white"
           },
           "zaxis": {
            "backgroundcolor": "#E5ECF6",
            "gridcolor": "white",
            "gridwidth": 2,
            "linecolor": "white",
            "showbackground": true,
            "ticks": "",
            "zerolinecolor": "white"
           }
          },
          "shapedefaults": {
           "line": {
            "color": "#2a3f5f"
           }
          },
          "ternary": {
           "aaxis": {
            "gridcolor": "white",
            "linecolor": "white",
            "ticks": ""
           },
           "baxis": {
            "gridcolor": "white",
            "linecolor": "white",
            "ticks": ""
           },
           "bgcolor": "#E5ECF6",
           "caxis": {
            "gridcolor": "white",
            "linecolor": "white",
            "ticks": ""
           }
          },
          "title": {
           "x": 0.05
          },
          "xaxis": {
           "automargin": true,
           "gridcolor": "white",
           "linecolor": "white",
           "ticks": "",
           "title": {
            "standoff": 15
           },
           "zerolinecolor": "white",
           "zerolinewidth": 2
          },
          "yaxis": {
           "automargin": true,
           "gridcolor": "white",
           "linecolor": "white",
           "ticks": "",
           "title": {
            "standoff": 15
           },
           "zerolinecolor": "white",
           "zerolinewidth": 2
          }
         }
        },
        "width": 1300,
        "xaxis": {
         "tickangle": -45
        }
       }
      }
     },
     "metadata": {}
    }
   ],
   "source": [
    "ta1.read()"
   ]
  },
  {
   "cell_type": "code",
   "execution_count": null,
   "metadata": {},
   "outputs": [],
   "source": []
  }
 ]
}